{
 "cells": [
  {
   "cell_type": "markdown",
   "metadata": {},
   "source": [
    "<b>HW 6: Character classification using KNN with PyTorch\n",
    "\n",
    "Author:\n",
    "</b> Brian Erichsen Fagundes\n"
   ]
  },
  {
   "cell_type": "code",
   "execution_count": 22,
   "metadata": {},
   "outputs": [
    {
     "name": "stdout",
     "output_type": "stream",
     "text": [
      "(26237, 20, 20)\n",
      "(26237, 1)\n"
     ]
    }
   ],
   "source": [
    "# Step 1: Data acquision + clenup\n",
    "import pandas as pd\n",
    "import numpy as np\n",
    "\n",
    "# loads data into variable\n",
    "data = pd.read_csv('ARIAL.csv')\n",
    "\n",
    "# selects which columns to keep m_label and all the r{x} c{y}\n",
    "columns_to_keep = ['m_label']\n",
    "columns_to_keep += [f'r{r}c{c}' for r in range(0, 20) for c in range(0, 20)]\n",
    "filtered_data = data[columns_to_keep]\n",
    "\n",
    "# funtion that transforms dataframe returns 2 numpy arrays\n",
    "# x sample x 20 x 20 has pixel val, y #samples x 1 array has ascii for each char\n",
    "def transform_data(data_frame):\n",
    "    # extract the pixel val and normalize data\n",
    "    # . values converts from pandas to numpy array\n",
    "    Xs = data_frame[[f'r{r}c{c}' for r in range(0, 20) for c in range(0, 20)]].values\n",
    "    # makes it samples x 20 x 20 D / 256.0\n",
    "    Xs = Xs.reshape(-1, 20, 20) / 256.0\n",
    "\n",
    "    # extrac the ascii value for each char\n",
    "    Ys = data_frame['m_label'].values\n",
    "    # makes samples# x 1 Dim\n",
    "    Ys = Ys.reshape(-1, 1)\n",
    "\n",
    "    return Xs, Ys\n",
    "\n",
    "Xs, Ys = transform_data(filtered_data)\n",
    "\n",
    "# dictionary for label conversion - using set (collection of unique elements)\n",
    "unique_chars = sorted(set(filtered_data['m_label']))\n",
    "# maps each char to unique index\n",
    "char_to_index = {char: idx for idx, char in enumerate(unique_chars)}\n",
    "# maps each index back to char\n",
    "index_to_char = {idx: char for char, idx in char_to_index.items()}"
   ]
  }
 ],
 "metadata": {
  "kernelspec": {
   "display_name": ".venv",
   "language": "python",
   "name": "python3"
  },
  "language_info": {
   "codemirror_mode": {
    "name": "ipython",
    "version": 3
   },
   "file_extension": ".py",
   "mimetype": "text/x-python",
   "name": "python",
   "nbconvert_exporter": "python",
   "pygments_lexer": "ipython3",
   "version": "3.12.3"
  }
 },
 "nbformat": 4,
 "nbformat_minor": 2
}
