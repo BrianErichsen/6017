{
 "cells": [
  {
   "cell_type": "markdown",
   "metadata": {},
   "source": [
    "Author: Brian Erichsen Fagundes\n",
    "\n",
    "Data Manipulation and NN architecture"
   ]
  },
  {
   "cell_type": "code",
   "execution_count": 1,
   "metadata": {},
   "outputs": [
    {
     "name": "stderr",
     "output_type": "stream",
     "text": [
      "/Users/brianerichsenfagundes/Desktop/6017/.venv/lib/python3.12/site-packages/keras/src/layers/rnn/rnn.py:204: UserWarning: Do not pass an `input_shape`/`input_dim` argument to a layer. When using Sequential models, prefer using an `Input(shape)` object as the first layer in the model instead.\n",
      "  super().__init__(**kwargs)\n"
     ]
    },
    {
     "name": "stdout",
     "output_type": "stream",
     "text": [
      "\u001b[1m5830/5830\u001b[0m \u001b[32m━━━━━━━━━━━━━━━━━━━━\u001b[0m\u001b[37m\u001b[0m \u001b[1m39s\u001b[0m 6ms/step - loss: 0.0037\n"
     ]
    },
    {
     "name": "stderr",
     "output_type": "stream",
     "text": [
      "WARNING:absl:You are saving your model as an HDF5 file via `model.save()` or `keras.saving.save_model(model)`. This file format is considered legacy. We recommend using instead the native Keras format, e.g. `model.save('my_model.keras')` or `keras.saving.save_model(model, 'my_model.keras')`. \n"
     ]
    }
   ],
   "source": [
    "import numpy as np\n",
    "import pandas as pd\n",
    "from tensorflow.keras.models import Sequential\n",
    "from tensorflow.keras.layers import LSTM, Dense, Dropout\n",
    "from sklearn.preprocessing import MinMaxScaler\n",
    "\n",
    "\n",
    "# fetches data from excel file\n",
    "excel_data = pd.read_excel('historical_prices.xlsx', sheet_name=None)\n",
    "combined_data = pd.DataFrame() # initiate empty data that will be combined\n",
    "\n",
    "# per each sheet in excell file set stock to specific stock and concatenate data\n",
    "for sheet_name, df in excel_data.items():\n",
    "    df['Stock'] = sheet_name\n",
    "    combined_data = pd.concat([combined_data, df], ignore_index=True)\n",
    "\n",
    "#print(combined_data.info())\n",
    "#print(combined_data.columns)\n",
    "#print(combined_data.head())\n",
    "#print(combined_data.tail())\n",
    "\n",
    "# this step is crucial for NN LSTM training\n",
    "scaler = MinMaxScaler(feature_range=(0, 1))\n",
    "\n",
    "# 2D numpy array from scaling columns\n",
    "#fit transform prepares data for tensor transformed data\n",
    "scaled_data = scaler.fit_transform(combined_data[['Close']])\n",
    "#scaled_data[:,0] - all rows from 1st column - Close\n",
    "#scaled_data[:, 1] - Volume\n",
    "\n",
    "sequence_length = 60\n",
    "\n",
    "# both x and y starts off as lists -- then we append data and transform to numpy arrays\n",
    "x_train, y_train = [],[]\n",
    "# splits x_t and y_t\n",
    "# Len of data number of training examples, sequence len is number of steps, 1 feature\n",
    "# For y_train - 1D array; since we keeping only stock prices (1 feature)\n",
    "for i in range(sequence_length, len(scaled_data)):\n",
    "    #only keeping close price for now\n",
    "    # for using volume as well --\n",
    "    # x_train.append(scaled_data[i-sequence_length:i, :])\n",
    "    x_train.append(scaled_data[i-sequence_length:i, :])\n",
    "    y_train.append(scaled_data[i, :])# close for the target\n",
    "\n",
    "\n",
    "# transforms data into numpy array for model\n",
    "x_train, y_train = np.array(x_train), np.array(y_train)\n",
    "# reshapes it to 3D (samples, time steps, features)\n",
    "x_train = np.reshape(x_train, (x_train.shape[0], x_train.shape[1], 1))\n",
    "\n",
    "model = Sequential([\n",
    "    LSTM(50, return_sequences=True, input_shape=(x_train.shape[1], 1)),\n",
    "    Dropout(0.2),\n",
    "    LSTM(50, return_sequences=False),\n",
    "    Dropout(0.2),\n",
    "    Dense(25),\n",
    "    Dense(1)\n",
    "])\n",
    "\n",
    "# model.compile - learn process before training the model - compiles the model with current\n",
    "# config -- loss function and optimizer\n",
    "# can use compute_loss\n",
    "# adam - adaptive learning - and MSE for regression\n",
    "#  could have used 'mse' and 'sgd' for optimizer that update the weights\n",
    "model.compile(optimizer='adam', loss='mean_squared_error')\n",
    "# trains the model in provided data -- x input; y target (labels).\n",
    "# .fit builds the model for the 1st time.\n",
    "#model.fit(x_train, y_train, batch_size=32, epochs=10, validation_split=0.2, shuffle=True)\n",
    "\n",
    "# call model.fit when learning new data ; for instance of new days closing price\n",
    "model.fit(x_train, y_train, batch_size=1, epochs=1)\n",
    "\n",
    "model.save('stock_prediction_model.h5')"
   ]
  },
  {
   "cell_type": "markdown",
   "metadata": {},
   "source": [
    "I could a function to feed data to NN to simplify a lot of code"
   ]
  },
  {
   "cell_type": "code",
   "execution_count": 2,
   "metadata": {},
   "outputs": [],
   "source": [
    "from sklearn.model_selection import train_test_split\n",
    "\n",
    "#splitting the data into train and test sets\n",
    "sequence_length = 60\n",
    "x_data, y_data = [], []\n",
    "\n",
    "for i in range(sequence_length, len(scaled_data)):\n",
    "    x_data.append(scaled_data[i-sequence_length:i, 0])\n",
    "    y_data.append(scaled_data[i, 0])\n",
    "\n",
    "x_data, y_data = np.array(x_data), np.array(y_data)\n",
    "train_size = int(len(x_data) * 0.8)\n",
    "#[x:y] -- from 0 to train size and from train size to the end\n",
    "x_train, x_test = x_data[:train_size], x_data[train_size:]\n",
    "y_train, y_test = y_data[:train_size], y_data[train_size:]\n",
    "\n",
    "#reshape data for LSTM model which expects a 3D\n",
    "# input - samples, time steps and number of features\n",
    "x_train = np.reshape(x_train, (x_train.shape[0], x_train.shape[1], 1))\n",
    "x_test = np.reshape(x_test, (x_test.shape[0], x_test.shape[1], 1))"
   ]
  },
  {
   "cell_type": "code",
   "execution_count": 3,
   "metadata": {},
   "outputs": [
    {
     "name": "stdout",
     "output_type": "stream",
     "text": [
      "\u001b[1m4664/4664\u001b[0m \u001b[32m━━━━━━━━━━━━━━━━━━━━\u001b[0m\u001b[37m\u001b[0m \u001b[1m30s\u001b[0m 6ms/step - loss: 3.6355e-04\n"
     ]
    },
    {
     "data": {
      "text/plain": [
       "<keras.src.callbacks.history.History at 0x315489b80>"
      ]
     },
     "execution_count": 3,
     "metadata": {},
     "output_type": "execute_result"
    }
   ],
   "source": [
    "# adam - adaptive learning - and MSE for regression\n",
    "model.compile(optimizer='adam', loss='mean_squared_error')\n",
    "# trains the model in provided data -- x input; y target (labels)\n",
    "model.fit(x_train, y_train, batch_size=1, epochs=1)"
   ]
  },
  {
   "cell_type": "code",
   "execution_count": 4,
   "metadata": {},
   "outputs": [
    {
     "name": "stdout",
     "output_type": "stream",
     "text": [
      "\u001b[1m37/37\u001b[0m \u001b[32m━━━━━━━━━━━━━━━━━━━━\u001b[0m\u001b[37m\u001b[0m \u001b[1m0s\u001b[0m 7ms/step\n",
      "Test MSE: 0.0272\n",
      "Test SQMSE: 0.1650\n"
     ]
    }
   ],
   "source": [
    "from sklearn.metrics import mean_squared_error\n",
    "# Model Evaluation\n",
    "predicted_stock_price = model.predict(x_test)\n",
    "# Mean squared error calculation\n",
    "mse = mean_squared_error(y_test, predicted_stock_price)\n",
    "sqmse = np.sqrt(mse)\n",
    "print(f'Test MSE: {mse:.4f}')\n",
    "print(f'Test SQMSE: {sqmse:.4f}')"
   ]
  },
  {
   "cell_type": "markdown",
   "metadata": {},
   "source": [
    "So far it seems that model can predictict well the prices of stocks.\n",
    "\n",
    "\n",
    "Using only Close price -- MSE: 0.0017 and SQMSE: 0.0414"
   ]
  },
  {
   "cell_type": "code",
   "execution_count": 5,
   "metadata": {},
   "outputs": [
    {
     "name": "stdout",
     "output_type": "stream",
     "text": [
      "\u001b[1m975/975\u001b[0m \u001b[32m━━━━━━━━━━━━━━━━━━━━\u001b[0m\u001b[37m\u001b[0m \u001b[1m6s\u001b[0m 6ms/step - loss: 1.8970e-05\n",
      "\u001b[1m31/31\u001b[0m \u001b[32m━━━━━━━━━━━━━━━━━━━━\u001b[0m\u001b[37m\u001b[0m \u001b[1m0s\u001b[0m 4ms/step\n",
      "MSE for fold: 0.0000\n",
      "\u001b[1m1946/1946\u001b[0m \u001b[32m━━━━━━━━━━━━━━━━━━━━\u001b[0m\u001b[37m\u001b[0m \u001b[1m12s\u001b[0m 6ms/step - loss: 1.5902e-05\n",
      "\u001b[1m31/31\u001b[0m \u001b[32m━━━━━━━━━━━━━━━━━━━━\u001b[0m\u001b[37m\u001b[0m \u001b[1m0s\u001b[0m 4ms/step\n",
      "MSE for fold: 0.0000\n",
      "\u001b[1m2917/2917\u001b[0m \u001b[32m━━━━━━━━━━━━━━━━━━━━\u001b[0m\u001b[37m\u001b[0m \u001b[1m19s\u001b[0m 6ms/step - loss: 3.8061e-05\n",
      "\u001b[1m31/31\u001b[0m \u001b[32m━━━━━━━━━━━━━━━━━━━━\u001b[0m\u001b[37m\u001b[0m \u001b[1m0s\u001b[0m 4ms/step\n",
      "MSE for fold: 0.0000\n",
      "\u001b[1m3888/3888\u001b[0m \u001b[32m━━━━━━━━━━━━━━━━━━━━\u001b[0m\u001b[37m\u001b[0m \u001b[1m25s\u001b[0m 6ms/step - loss: 2.4185e-05\n",
      "\u001b[1m31/31\u001b[0m \u001b[32m━━━━━━━━━━━━━━━━━━━━\u001b[0m\u001b[37m\u001b[0m \u001b[1m0s\u001b[0m 4ms/step\n",
      "MSE for fold: 0.0007\n",
      "\u001b[1m4859/4859\u001b[0m \u001b[32m━━━━━━━━━━━━━━━━━━━━\u001b[0m\u001b[37m\u001b[0m \u001b[1m31s\u001b[0m 6ms/step - loss: 0.0012\n",
      "\u001b[1m31/31\u001b[0m \u001b[32m━━━━━━━━━━━━━━━━━━━━\u001b[0m\u001b[37m\u001b[0m \u001b[1m0s\u001b[0m 4ms/step\n",
      "MSE for fold: 0.0167\n"
     ]
    }
   ],
   "source": [
    "# Adding Cross Validation for further testing accuracy\n",
    "from sklearn.model_selection import TimeSeriesSplit\n",
    "\n",
    "tscv = TimeSeriesSplit(n_splits=5)\n",
    "\n",
    "for train_index, test_index in tscv.split(x_data):\n",
    "    x_train_cv, x_test_cv = x_data[train_index], x_data[test_index]\n",
    "    y_train_cv, y_test_cv = y_data[train_index], y_data[test_index]\n",
    "    \n",
    "    x_train_cv = np.reshape(x_train_cv, (x_train_cv.shape[0], x_train_cv.shape[1], 1))\n",
    "    x_test_cv = np.reshape(x_test_cv, (x_test_cv.shape[0], x_test_cv.shape[1], 1))\n",
    "\n",
    "    model.fit(x_train_cv, y_train_cv, batch_size=1, epochs=1)\n",
    "    \n",
    "    predictions = model.predict(x_test_cv)\n",
    "    mse_cv = mean_squared_error(y_test_cv, predictions)\n",
    "    print(f'MSE for fold: {mse_cv:.4f}')\n"
   ]
  },
  {
   "cell_type": "code",
   "execution_count": 6,
   "metadata": {},
   "outputs": [
    {
     "data": {
      "image/png": "[encoded data removed]",
      "text/plain": [
       "<Figure size 640x480 with 1 Axes>"
      ]
     },
     "metadata": {},
     "output_type": "display_data"
    }
   ],
   "source": [
    "import matplotlib.pyplot as plt\n",
    "\n",
    "plt.plot(y_test, color='blue', label='Actual Stock Price')\n",
    "plt.plot(predicted_stock_price, color='red', label='Predicted Stock Price')\n",
    "plt.title('Stock Price Prediction')\n",
    "plt.xlabel('Time')\n",
    "plt.ylabel('Stock Price')\n",
    "plt.legend()\n",
    "plt.show()"
   ]
  },
  {
   "cell_type": "markdown",
   "metadata": {},
   "source": [
    "Notes: Test it with Close and Volume feature and compare accuracy of both & adding the S&P 500 data as well and test its accuracy and how well it impacts overall predictions. Currently the prediction is the next day -- we could also dynamically do a x variable number of days ahead to test its prediction."
   ]
  },
  {
   "cell_type": "markdown",
   "metadata": {},
   "source": [
    "Testing for the next day seems to be going ok and logic has been tested as well on app.py for frontend. Let's give a try by only using the 60 last days of data to check for accuracy instead of using the whole data."
   ]
  },
  {
   "cell_type": "code",
   "execution_count": 7,
   "metadata": {},
   "outputs": [
    {
     "name": "stderr",
     "output_type": "stream",
     "text": [
      "WARNING:absl:Compiled the loaded model, but the compiled metrics have yet to be built. `model.compile_metrics` will be empty until you train or evaluate the model.\n"
     ]
    },
    {
     "name": "stdout",
     "output_type": "stream",
     "text": [
      "\u001b[1m1/1\u001b[0m \u001b[32m━━━━━━━━━━━━━━━━━━━━\u001b[0m\u001b[37m\u001b[0m \u001b[1m0s\u001b[0m 95ms/step\n",
      "Predicted Prices for AAPL is: 230.40.\n"
     ]
    }
   ],
   "source": [
    "from tensorflow.keras.models import load_model\n",
    "\n",
    "## TO DO - PUT ALL OF THESE IN A FUNCTION\n",
    "\n",
    "# Load model\n",
    "model = load_model('stock_prediction_model.h5')\n",
    "\n",
    "# Load and scale data\n",
    "excel_data = pd.read_excel('historical_prices.xlsx', sheet_name=None)\n",
    "combined_data = pd.DataFrame()\n",
    "\n",
    "for sheet_name, df in excel_data.items():\n",
    "    df['Stock'] = sheet_name\n",
    "    combined_data = pd.concat([combined_data, df], ignore_index=True)\n",
    "\n",
    "#normalizes values from 0 to 1 - really import for recurrent NN\n",
    "scaler = MinMaxScaler(feature_range=(0, 1))\n",
    "# transforms data into 2D numpy array\n",
    "scaled_data = scaler.fit_transform(combined_data[['Close']])\n",
    "\n",
    "# Prepare input for prediction\n",
    "ticker = 'AAPL'\n",
    "\n",
    "#transforms the scaled data - 2D numpy array of scaled Close prices\n",
    "last_60_days = combined_data[combined_data['Stock'] == ticker].tail(60)\n",
    "last_60_days_scaled = scaler.transform(last_60_days[['Close']])\n",
    "\n",
    "#converts 1D to 2D\n",
    "# x chooses 1st column (the one has closing prices) : all rows; 0 for 1st column (60, 1)\n",
    "x_input = np.array([last_60_days_scaled])\n",
    "\n",
    "# batch size, time_steps, features\n",
    "# reshapes x input into 3D --> since model expects 3D input -- 1, 60, 1\n",
    "x_input = np.reshape(x_input, (x_input.shape[0], x_input.shape[1], 1))\n",
    "\n",
    "# Predict future prices\n",
    "# the predicted price is a 2D array\n",
    "predicted_stock_price = model.predict(x_input)\n",
    "#access the 1st element of prediction - transform it to 2D - inverse transform changes from\n",
    "# scaled 0 - 1 back to normal value\n",
    "predicted_price = scaler.inverse_transform(\n",
    "    np.array([predicted_stock_price[0], [0]])\n",
    ")[0][0]\n",
    "\n",
    "# Print predictions\n",
    "print(f'Predicted Prices for {ticker} is: {predicted_price:.2f}.')"
   ]
  },
  {
   "cell_type": "markdown",
   "metadata": {},
   "source": [
    "This is actually really impressive; because our file currently - historical prices\n",
    "its data finish on 08-16 with TSLA closing price for 216.12 and it predicts for the 08-19 for 222.33 where on Yahoo Finance states that TSLA price for 09-19 is 222.72."
   ]
  },
  {
   "cell_type": "markdown",
   "metadata": {},
   "source": [
    "So far NN predictis one day ahead closing price of a given stock. Let's change the model so that the output is 2D instead 1D so we can predicti n days in the future from today."
   ]
  },
  {
   "cell_type": "code",
   "execution_count": 8,
   "metadata": {},
   "outputs": [
    {
     "name": "stderr",
     "output_type": "stream",
     "text": [
      "/Users/brianerichsenfagundes/Desktop/6017/.venv/lib/python3.12/site-packages/keras/src/layers/rnn/rnn.py:204: UserWarning: Do not pass an `input_shape`/`input_dim` argument to a layer. When using Sequential models, prefer using an `Input(shape)` object as the first layer in the model instead.\n",
      "  super().__init__(**kwargs)\n"
     ]
    },
    {
     "name": "stdout",
     "output_type": "stream",
     "text": [
      "\u001b[1m5826/5826\u001b[0m \u001b[32m━━━━━━━━━━━━━━━━━━━━\u001b[0m\u001b[37m\u001b[0m \u001b[1m38s\u001b[0m 6ms/step - loss: 0.0055\n"
     ]
    },
    {
     "name": "stderr",
     "output_type": "stream",
     "text": [
      "WARNING:absl:You are saving your model as an HDF5 file via `model.save()` or `keras.saving.save_model(model)`. This file format is considered legacy. We recommend using instead the native Keras format, e.g. `model.save('my_model.keras')` or `keras.saving.save_model(model, 'my_model.keras')`. \n"
     ]
    }
   ],
   "source": [
    "# this new model will have 2 Y output so that we can predict n days in the future the close\n",
    "# price of a given stock\n",
    "\n",
    "sequence_length = 60\n",
    "n_future = 5 #number of days ahead we want to predict\n",
    "x_train, y_train = [],[]\n",
    "# splits x_t and y_t\n",
    "# Len of data number of training examples, sequence len is number of steps, 1 feature\n",
    "# For y_train - 1D array; since we keeping only stock prices (1 feature)\n",
    "for i in range(sequence_length, len(scaled_data) - n_future + 1):\n",
    "    #only keeping close price for now\n",
    "    # for using volume as well --\n",
    "    # x_train.append(scaled_data[i-sequence_length:i, :])\n",
    "    x_train.append(scaled_data[i-sequence_length:i, :])\n",
    "    y_train.append(scaled_data[i:i+n_future, 0])# close for the target\n",
    "\n",
    "# transforms data into numpy array for model\n",
    "x_train, y_train = np.array(x_train), np.array(y_train)\n",
    "# reshapes it to 3D (samples, time steps, features)\n",
    "x_train = np.reshape(x_train, (x_train.shape[0], x_train.shape[1], x_train.shape[2]))\n",
    "\n",
    "model = Sequential([\n",
    "    LSTM(50, return_sequences=True, input_shape=(x_train.shape[1], x_train.shape[2])),\n",
    "    Dropout(0.2),\n",
    "    LSTM(50, return_sequences=False),\n",
    "    Dropout(0.2),\n",
    "    Dense(25),\n",
    "    Dense(n_future)\n",
    "])\n",
    "\n",
    "# model.compile - learn process before training the model\n",
    "# adam - adaptive learning - and MSE for regression\n",
    "model.compile(optimizer='adam', loss='mean_squared_error')\n",
    "# trains the model in provided data -- x input; y target (labels)\n",
    "#model.fit(x_train, y_train, batch_size=32, epochs=10, validation_split=0.2, shuffle=True)\n",
    "model.fit(x_train, y_train, batch_size=1, epochs=1)\n",
    "\n",
    "model.save('stock_prediction_model2.h5')"
   ]
  },
  {
   "cell_type": "code",
   "execution_count": 9,
   "metadata": {},
   "outputs": [
    {
     "name": "stderr",
     "output_type": "stream",
     "text": [
      "WARNING:absl:Compiled the loaded model, but the compiled metrics have yet to be built. `model.compile_metrics` will be empty until you train or evaluate the model.\n"
     ]
    },
    {
     "name": "stdout",
     "output_type": "stream",
     "text": [
      "\u001b[1m1/1\u001b[0m \u001b[32m━━━━━━━━━━━━━━━━━━━━\u001b[0m\u001b[37m\u001b[0m \u001b[1m0s\u001b[0m 94ms/step\n",
      "Predicted Price for day 1: 338.97\n",
      "Predicted Price for day 2: 361.96\n",
      "Predicted Price for day 3: 334.44\n",
      "Predicted Price for day 4: 329.80\n",
      "Predicted Price for day 5: 354.73\n"
     ]
    }
   ],
   "source": [
    "# will try to resolve predicting n-days in the future a stock prediction to be returned\n",
    "# Load model\n",
    "model = load_model('stock_prediction_model2.h5')\n",
    "\n",
    "# Load and scale data\n",
    "excel_data = pd.read_excel('historical_prices.xlsx', sheet_name=None)\n",
    "combined_data = pd.DataFrame()\n",
    "\n",
    "for sheet_name, df in excel_data.items():\n",
    "    df['Stock'] = sheet_name\n",
    "    combined_data = pd.concat([combined_data, df], ignore_index=True)\n",
    "\n",
    "#normalizes values from 0 to 1 - really import for recurrent NN\n",
    "scaler = MinMaxScaler(feature_range=(0, 1))\n",
    "# transforms data into 2D numpy array\n",
    "scaled_data = scaler.fit_transform(combined_data[['Close']])\n",
    "\n",
    "# Prepare input for prediction\n",
    "ticker = 'TSLA'\n",
    "\n",
    "#transforms the scaled data - 2D numpy array of scaled Close prices\n",
    "last_60_days = combined_data[combined_data['Stock'] == ticker].tail(60)\n",
    "last_60_days_scaled = scaler.transform(last_60_days[['Close']])\n",
    "\n",
    "#converts 1D to 2D\n",
    "# x chooses 1st column (the one has closing prices) : all rows; 0 for 1st column (60, 1)\n",
    "x_input = np.array([last_60_days_scaled])\n",
    "\n",
    "# batch size, time_steps, features\n",
    "# reshapes x input into 3D --> since model expects 3D input -- 1, 60, 1\n",
    "x_input = np.reshape(x_input, (x_input.shape[0], x_input.shape[1], 1))\n",
    "\n",
    "predicted_stock_price = model.predict(x_input)\n",
    "#reshapes prediction back to 2D\n",
    "predicted_stock_price = np.array(predicted_stock_price).reshape(-1, 1)\n",
    "\n",
    "# dummy array to match original number of features in the scaled data - 1 since\n",
    "# original scaling was based on only Close\n",
    "dummy_array = np.zeros((predicted_stock_price.shape[0], scaled_data.shape[1] - 1))\n",
    "# concatenate both so we have proper shape for inverse scaling process\n",
    "# axis 1 makes sure we append columns side by side\n",
    "predicted_stock_price_full = np.concatenate((predicted_stock_price, dummy_array), axis=1)\n",
    "#reverts back scaled to normal data we only extract :, 0 - only close columns and take out the\n",
    "# dummy values\n",
    "predicted_price = scaler.inverse_transform(predicted_stock_price_full)[:, 0]\n",
    "\n",
    "for i, price in enumerate(predicted_price, 1):\n",
    "    print(f'Predicted Price for day {i}: {price:.2f}')"
   ]
  }
 ],
 "metadata": {
  "kernelspec": {
   "display_name": ".venv",
   "language": "python",
   "name": "python3"
  },
  "language_info": {
   "codemirror_mode": {
    "name": "ipython",
    "version": 3
   },
   "file_extension": ".py",
   "mimetype": "text/x-python",
   "name": "python",
   "nbconvert_exporter": "python",
   "pygments_lexer": "ipython3",
   "version": "3.12.3"
  }
 },
 "nbformat": 4,
 "nbformat_minor": 2
}
