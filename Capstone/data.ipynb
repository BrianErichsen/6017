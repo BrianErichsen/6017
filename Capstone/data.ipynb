{
 "cells": [
  {
   "cell_type": "markdown",
   "metadata": {},
   "source": [
    "Author: Brian Erichsen Fagundes\n",
    "\n",
    "Data Manipulation and NN architecture"
   ]
  },
  {
   "cell_type": "code",
   "execution_count": 5,
   "metadata": {},
   "outputs": [
    {
     "name": "stderr",
     "output_type": "stream",
     "text": [
      "/var/folders/vz/hr6jrn1n0ggf1mxbfs500y4m0000gn/T/ipykernel_14101/3806401752.py:15: FutureWarning: The behavior of DataFrame concatenation with empty or all-NA entries is deprecated. In a future version, this will no longer exclude empty or all-NA columns when determining the result dtypes. To retain the old behavior, exclude the relevant entries before the concat operation.\n",
      "  combined_data = pd.concat([combined_data, df], ignore_index=True)\n",
      "/Users/brianerichsenfagundes/Desktop/6017/.venv/lib/python3.12/site-packages/keras/src/layers/rnn/rnn.py:204: UserWarning: Do not pass an `input_shape`/`input_dim` argument to a layer. When using Sequential models, prefer using an `Input(shape)` object as the first layer in the model instead.\n",
      "  super().__init__(**kwargs)\n"
     ]
    },
    {
     "name": "stdout",
     "output_type": "stream",
     "text": [
      "\u001b[1m 738/2576\u001b[0m \u001b[32m━━━━━\u001b[0m\u001b[37m━━━━━━━━━━━━━━━\u001b[0m \u001b[1m11s\u001b[0m 6ms/step - loss: 0.0095"
     ]
    }
   ],
   "source": [
    "import numpy as np\n",
    "import pandas as pd\n",
    "from tensorflow.keras.models import Sequential\n",
    "from tensorflow.keras.layers import LSTM, Dense, Dropout\n",
    "from sklearn.preprocessing import MinMaxScaler\n",
    "\n",
    "#data = pd.read_csv('stock_data.csv')\n",
    "# fetches data from excel file\n",
    "excel_data = pd.read_excel('historical_prices.xlsx', sheet_name=None)\n",
    "combined_data = pd.DataFrame() # initiate empty data that will be combined\n",
    "\n",
    "# per each sheet in excell file set stock to specific stock and concatenate data\n",
    "for sheet_name, df in excel_data.items():\n",
    "    df['Stock'] = sheet_name\n",
    "    combined_data = pd.concat([combined_data, df], ignore_index=True)\n",
    "\n",
    "#print(combined_data.info())\n",
    "#print(combined_data.columns)\n",
    "#print(combined_data.head())\n",
    "#print(combined_data.tail())\n",
    "\n",
    "# this step is crucial for NN LSTM training\n",
    "scaler = MinMaxScaler(feature_range=(0, 1))\n",
    "\n",
    "scaled_data = scaler.fit_transform(combined_data[['Close', 'Volume']])\n",
    "\n",
    "sequence_length = 60\n",
    "x_train, y_train = [],[]\n",
    "# splits x_t and y_t\n",
    "# Len of data number of training examples, sequence len is number of steps, 1 feature\n",
    "# For y_train - 1D array; since we keeping only stock prices (1 feature)\n",
    "for i in range(sequence_length, len(scaled_data)):\n",
    "    x_train.append(scaled_data[i-sequence_length:i, 0])\n",
    "    y_train.append(scaled_data[i, 0])\n",
    "\n",
    "# transforms data into numpy array for model\n",
    "x_train, y_train = np.array(x_train), np.array(y_train)\n",
    "# reshapes it to 3D (samples, time steps, features)\n",
    "x_train = np.reshape(x_train, (x_train.shape[0], x_train.shape[1], 1))\n",
    "\n",
    "model = Sequential([\n",
    "    LSTM(50, return_sequences=True, input_shape=(x_train.shape[1], 1)),\n",
    "    Dropout(0.2),\n",
    "    LSTM(50, return_sequences=False),\n",
    "    Dropout(0.2),\n",
    "    Dense(25),\n",
    "    Dense(1)\n",
    "])\n",
    "\n",
    "\n",
    "model.compile(optimizer='adam', loss='mean_squared_error')\n",
    "model.fit(x_train, y_train, batch_size=1, epochs=1)\n",
    "\n",
    "model.save('stock_prediction_model.h5')"
   ]
  },
  {
   "cell_type": "code",
   "execution_count": null,
   "metadata": {},
   "outputs": [
    {
     "ename": "AttributeError",
     "evalue": "'numpy.ndarray' object has no attribute 'append'",
     "output_type": "error",
     "traceback": [
      "\u001b[0;31m---------------------------------------------------------------------------\u001b[0m",
      "\u001b[0;31mAttributeError\u001b[0m                            Traceback (most recent call last)",
      "Cell \u001b[0;32mIn[4], line 9\u001b[0m\n\u001b[1;32m      7\u001b[0m \u001b[38;5;28;01mfor\u001b[39;00m i \u001b[38;5;129;01min\u001b[39;00m \u001b[38;5;28mrange\u001b[39m(sequence_length, \u001b[38;5;28mlen\u001b[39m(scaled_data)):\n\u001b[1;32m      8\u001b[0m     x_data\u001b[38;5;241m.\u001b[39mappend(scaled_data[i\u001b[38;5;241m-\u001b[39msequence_length:i, \u001b[38;5;241m0\u001b[39m])\n\u001b[0;32m----> 9\u001b[0m     \u001b[43my_train\u001b[49m\u001b[38;5;241;43m.\u001b[39;49m\u001b[43mappend\u001b[49m(scaled_data[i, \u001b[38;5;241m0\u001b[39m])\n\u001b[1;32m     11\u001b[0m x_data, y_data \u001b[38;5;241m=\u001b[39m np\u001b[38;5;241m.\u001b[39marray(x_data), np\u001b[38;5;241m.\u001b[39marray(y_data)\n\u001b[1;32m     12\u001b[0m train_size \u001b[38;5;241m=\u001b[39m \u001b[38;5;28mint\u001b[39m(\u001b[38;5;28mlen\u001b[39m(x_data) \u001b[38;5;241m*\u001b[39m \u001b[38;5;241m0.8\u001b[39m)\n",
      "\u001b[0;31mAttributeError\u001b[0m: 'numpy.ndarray' object has no attribute 'append'"
     ]
    }
   ],
   "source": [
    "from sklearn.model_selection import train_test_split\n",
    "\n",
    "#splitting the data into train and test sets\n",
    "sequence_length = 60\n",
    "x_data, y_data = [], []\n",
    "\n",
    "for i in range(sequence_length, len(scaled_data)):\n",
    "    x_data.append(scaled_data[i-sequence_length:i, 0])\n",
    "    y_data.append(scaled_data[i, 0])\n",
    "\n",
    "x_data, y_data = np.array(x_data), np.array(y_data)\n",
    "train_size = int(len(x_data) * 0.8)\n",
    "#[x:y] -- from 0 to train size and from train size to the end\n",
    "x_train, x_test = x_data[:train_size], x_data[train_size:]\n",
    "y_train, y_test = y_data[:train_size], y_data[train_size:]\n",
    "\n",
    "#reshape data for LSTM model which expects a 3D\n",
    "# input - samples, time steps and number of features\n",
    "x_train = np.reshape(x_train, (x_train.shape[0], x_train.shape[1], 1))\n",
    "x_test = np.reshape(x_train, (x_test.shape[0], x_test.shape[1], 1))"
   ]
  }
 ],
 "metadata": {
  "kernelspec": {
   "display_name": ".venv",
   "language": "python",
   "name": "python3"
  },
  "language_info": {
   "codemirror_mode": {
    "name": "ipython",
    "version": 3
   },
   "file_extension": ".py",
   "mimetype": "text/x-python",
   "name": "python",
   "nbconvert_exporter": "python",
   "pygments_lexer": "ipython3",
   "version": "3.12.3"
  }
 },
 "nbformat": 4,
 "nbformat_minor": 2
}
