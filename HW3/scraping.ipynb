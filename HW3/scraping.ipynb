{
 "cells": [
  {
   "cell_type": "markdown",
   "metadata": {},
   "source": [
    "Author: Brian Erichsen Fagundes\n",
    "MSD CS 6017 - Summer - 2024\n",
    "Homework 3: Scraping and Regression\n",
    "\n",
    "Part 1 Data Acquisiton"
   ]
  },
  {
   "cell_type": "code",
   "execution_count": 2,
   "metadata": {},
   "outputs": [
    {
     "name": "stdout",
     "output_type": "stream",
     "text": [
      "   Rank  Title Length  Age (hours)  Points  Comments\n",
      "0     1            43            2      82        32\n",
      "1     2            57            7     230        38\n",
      "2     3            72           11     289       108\n",
      "3     4            79           20     505       245\n",
      "4     5            44            3      18         0\n"
     ]
    }
   ],
   "source": [
    "from bs4 import BeautifulSoup\n",
    "import pandas as pd\n",
    "import urllib.request\n",
    "import re\n",
    "\n",
    "\n",
    "# Create arrays of data to be scraped\n",
    "ranks = []\n",
    "title_lengths = []\n",
    "age_in_hours = []\n",
    "points = []\n",
    "comments_numbers = []\n",
    "\n",
    "for i in range(5):\n",
    "    url=\"http://news.ycombinator.com/?p=\" + str(i+1)\n",
    "# Access website contents\n",
    "    with urllib.request.urlopen (url) as response:\n",
    "        html=response.read()\n",
    "        html=html.decode(\"utf-8\")\n",
    "\n",
    "# Saves html content into file\n",
    "    with open (\"hackernews\" + str(i+1) + \".html\", \"w\") as new_file:\n",
    "        new_file.write(html)\n",
    "\n",
    "# Parses html content into a soup\n",
    "    soup = BeautifulSoup(html, 'html.parser')\n",
    "    \n",
    "# Scrapes rank data\n",
    "    for post in soup.find_all(class_=\"rank\"):\n",
    "        rank = str(post.text)\n",
    "        rank = rank.replace('.', '')\n",
    "        ranks.append(int(rank))\n",
    "\n",
    "# Loads length of title data\n",
    "    for title in soup.find_all(class_=\"titleline\"):\n",
    "        title_lengths.append(len(title.text))\n",
    "\n",
    "# Loads age data\n",
    "    for age in soup.find_all(class_=\"age\"):\n",
    "        age_str =  str(age.text)\n",
    "        age_str =  age_str.removesuffix(\" hours ago\")\n",
    "        age_str = age_str.removesuffix(\" hour ago\")\n",
    "\n",
    "        if \" day ago\" in age_str:\n",
    "            age_in_hours.append(24)\n",
    "        elif \" days ago\" in age_str:\n",
    "            string = age_str.replace(\" days ago\", \"\")\n",
    "            num = int(string)\n",
    "            age_in_hours.append(num*24)\n",
    "        elif \" minute ago\" in age_str or \" minutes ago\" in age_str:\n",
    "            age_in_hours.append(0)\n",
    "        else:\n",
    "            age_in_hours.append(int(age_str))\n",
    "\n",
    "    for subtext in soup.find_all(class_=\"subtext\"):\n",
    "        point = 0\n",
    "        comments = 0\n",
    "        for score in subtext.find_all(class_=\"score\"):\n",
    "            point = int(re.search(r'\\d+', str(score.text)).group())\n",
    "\n",
    "        for tag in subtext.find_all(\"a\"):\n",
    "            if tag.text.endswith(\"comments\"):\n",
    "                a_= str(tag.text)\n",
    "                comments = int(re.search(r'\\d+', a_).group())\n",
    "\n",
    "        points.append(int(point))\n",
    "        comments_numbers.append(int(comments))\n",
    "\n",
    "data_frame = pd.DataFrame({\n",
    "    \"Rank\" : ranks, \"Title Length\" : title_lengths, \"Age (hours)\" : age_in_hours,\n",
    "    \"Points\" : points, \"Comments\" : comments_numbers\n",
    "})\n",
    "print(data_frame.head())\n"
   ]
  },
  {
   "cell_type": "code",
   "execution_count": 28,
   "metadata": {},
   "outputs": [],
   "source": [
    "# save data into file so we don't have to load data each time\n",
    "data_frame.to_csv(\"hacker_news_stories.csv\", index=False)"
   ]
  },
  {
   "cell_type": "markdown",
   "metadata": {},
   "source": [
    "Part 2 - Regression"
   ]
  },
  {
   "cell_type": "code",
   "execution_count": 4,
   "metadata": {},
   "outputs": [
    {
     "name": "stdout",
     "output_type": "stream",
     "text": [
      "                            OLS Regression Results                            \n",
      "==============================================================================\n",
      "Dep. Variable:                   Rank   R-squared:                       0.022\n",
      "Model:                            OLS   Adj. R-squared:                  0.015\n",
      "Method:                 Least Squares   F-statistic:                     3.276\n",
      "Date:                Tue, 04 Jun 2024   Prob (F-statistic):             0.0723\n",
      "Time:                        21:48:32   Log-Likelihood:                -776.42\n",
      "No. Observations:                 150   AIC:                             1557.\n",
      "Df Residuals:                     148   BIC:                             1563.\n",
      "Df Model:                           1                                         \n",
      "Covariance Type:            nonrobust                                         \n",
      "==============================================================================\n",
      "                 coef    std err          t      P>|t|      [0.025      0.975]\n",
      "------------------------------------------------------------------------------\n",
      "const         79.9964      4.309     18.566      0.000      71.482      88.511\n",
      "Points        -0.0412      0.023     -1.810      0.072      -0.086       0.004\n",
      "==============================================================================\n",
      "Omnibus:                       55.872   Durbin-Watson:                   0.042\n",
      "Prob(Omnibus):                  0.000   Jarque-Bera (JB):                8.744\n",
      "Skew:                          -0.008   Prob(JB):                       0.0126\n",
      "Kurtosis:                       1.817   Cond. No.                         232.\n",
      "==============================================================================\n",
      "\n",
      "Notes:\n",
      "[1] Standard Errors assume that the covariance matrix of the errors is correctly specified.\n"
     ]
    }
   ],
   "source": [
    "import statsmodels.api as sm\n",
    "\n",
    "dataframe = pd.read_csv(\"hacker_news_stories.csv\")\n",
    "x = data_frame['Points']\n",
    "y = data_frame['Rank']\n",
    "\n",
    "x = sm.add_constant(x)\n",
    "\n",
    "model = sm.OLS(y, x).fit()\n",
    "print(model.summary())"
   ]
  },
  {
   "cell_type": "code",
   "execution_count": 7,
   "metadata": {},
   "outputs": [
    {
     "name": "stdout",
     "output_type": "stream",
     "text": [
      "                            OLS Regression Results                            \n",
      "==============================================================================\n",
      "Dep. Variable:                   Rank   R-squared:                       0.200\n",
      "Model:                            OLS   Adj. R-squared:                  0.178\n",
      "Method:                 Least Squares   F-statistic:                     9.081\n",
      "Date:                Tue, 04 Jun 2024   Prob (F-statistic):           1.42e-06\n",
      "Time:                        22:00:22   Log-Likelihood:                -761.30\n",
      "No. Observations:                 150   AIC:                             1533.\n",
      "Df Residuals:                     145   BIC:                             1548.\n",
      "Df Model:                           4                                         \n",
      "Covariance Type:            nonrobust                                         \n",
      "================================================================================\n",
      "                   coef    std err          t      P>|t|      [0.025      0.975]\n",
      "--------------------------------------------------------------------------------\n",
      "const           49.5688     13.011      3.810      0.000      23.854      75.284\n",
      "Comments         0.0036      0.049      0.075      0.941      -0.092       0.100\n",
      "Age (hours)      2.0241      0.362      5.589      0.000       1.308       2.740\n",
      "Points          -0.1046      0.030     -3.520      0.001      -0.163      -0.046\n",
      "Title Length     0.0661      0.170      0.388      0.698      -0.270       0.403\n",
      "==============================================================================\n",
      "Omnibus:                       12.686   Durbin-Watson:                   0.340\n",
      "Prob(Omnibus):                  0.002   Jarque-Bera (JB):                5.335\n",
      "Skew:                           0.192   Prob(JB):                       0.0694\n",
      "Kurtosis:                       2.159   Cond. No.                         864.\n",
      "==============================================================================\n",
      "\n",
      "Notes:\n",
      "[1] Standard Errors assume that the covariance matrix of the errors is correctly specified.\n"
     ]
    }
   ],
   "source": [
    "x = data_frame[['Comments', 'Age (hours)', 'Points', 'Title Length']]\n",
    "x = sm.add_constant(x)\n",
    "\n",
    "model = sm.OLS(y, x).fit()\n",
    "print(model.summary())"
   ]
  },
  {
   "cell_type": "code",
   "execution_count": 8,
   "metadata": {},
   "outputs": [
    {
     "name": "stdout",
     "output_type": "stream",
     "text": [
      "                            OLS Regression Results                            \n",
      "==============================================================================\n",
      "Dep. Variable:                   Rank   R-squared:                       0.072\n",
      "Model:                            OLS   Adj. R-squared:                  0.040\n",
      "Method:                 Least Squares   F-statistic:                     2.227\n",
      "Date:                Tue, 04 Jun 2024   Prob (F-statistic):             0.0548\n",
      "Time:                        22:08:54   Log-Likelihood:                -772.48\n",
      "No. Observations:                 150   AIC:                             1557.\n",
      "Df Residuals:                     144   BIC:                             1575.\n",
      "Df Model:                           5                                         \n",
      "Covariance Type:            nonrobust                                         \n",
      "=========================================================================================\n",
      "                            coef    std err          t      P>|t|      [0.025      0.975]\n",
      "-----------------------------------------------------------------------------------------\n",
      "const                    79.0393     37.231      2.123      0.035       5.449     152.629\n",
      "Comments                 -0.2904      0.184     -1.576      0.117      -0.655       0.074\n",
      "Title Length              0.1475      1.175      0.126      0.900      -2.175       2.470\n",
      "Comments^2                0.0006      0.000      3.040      0.003       0.000       0.001\n",
      "Comments Title Length     0.0004      0.002      0.182      0.856      -0.004       0.005\n",
      "Title Length^2           -0.0012      0.009     -0.138      0.890      -0.019       0.016\n",
      "==============================================================================\n",
      "Omnibus:                       36.545   Durbin-Watson:                   0.148\n",
      "Prob(Omnibus):                  0.000   Jarque-Bera (JB):                7.517\n",
      "Skew:                          -0.029   Prob(JB):                       0.0233\n",
      "Kurtosis:                       1.905   Cond. No.                     4.88e+05\n",
      "==============================================================================\n",
      "\n",
      "Notes:\n",
      "[1] Standard Errors assume that the covariance matrix of the errors is correctly specified.\n",
      "[2] The condition number is large, 4.88e+05. This might indicate that there are\n",
      "strong multicollinearity or other numerical problems.\n"
     ]
    }
   ],
   "source": [
    "from sklearn.preprocessing import PolynomialFeatures\n",
    "\n",
    "# polynomial regression model: Rank ~ Comments + Comments^2 + Title Length + Title Length^2\n",
    "poly = PolynomialFeatures(degree=2, include_bias=False)\n",
    "x_poly = poly.fit_transform(data_frame[['Comments', 'Title Length']])\n",
    "x = pd.DataFrame(x_poly, columns=poly.get_feature_names_out(['Comments', 'Title Length']))\n",
    "x = sm.add_constant(x)\n",
    "\n",
    "model = sm.OLS(y, x).fit()\n",
    "print(model.summary())"
   ]
  },
  {
   "cell_type": "code",
   "execution_count": 9,
   "metadata": {},
   "outputs": [
    {
     "name": "stdout",
     "output_type": "stream",
     "text": [
      "                            OLS Regression Results                            \n",
      "==============================================================================\n",
      "Dep. Variable:                   Rank   R-squared:                       0.097\n",
      "Model:                            OLS   Adj. R-squared:                  0.091\n",
      "Method:                 Least Squares   F-statistic:                     15.84\n",
      "Date:                Tue, 04 Jun 2024   Prob (F-statistic):           0.000107\n",
      "Time:                        22:15:17   Log-Likelihood:                -770.44\n",
      "No. Observations:                 150   AIC:                             1545.\n",
      "Df Residuals:                     148   BIC:                             1551.\n",
      "Df Model:                           1                                         \n",
      "Covariance Type:            nonrobust                                         \n",
      "==============================================================================\n",
      "                 coef    std err          t      P>|t|      [0.025      0.975]\n",
      "------------------------------------------------------------------------------\n",
      "const         65.9446      4.148     15.898      0.000      57.747      74.142\n",
      "Points       176.5760     44.362      3.980      0.000      88.911     264.241\n",
      "==============================================================================\n",
      "Omnibus:                       23.639   Durbin-Watson:                   0.185\n",
      "Prob(Omnibus):                  0.000   Jarque-Bera (JB):                6.451\n",
      "Skew:                           0.098   Prob(JB):                       0.0397\n",
      "Kurtosis:                       2.003   Cond. No.                         13.2\n",
      "==============================================================================\n",
      "\n",
      "Notes:\n",
      "[1] Standard Errors assume that the covariance matrix of the errors is correctly specified.\n"
     ]
    }
   ],
   "source": [
    "import numpy as np\n",
    "\n",
    "# inverse linear model\n",
    "x = 1 / data_frame['Points']\n",
    "x = sm.add_constant(x.replace([np.inf, -np.inf], 0))\n",
    "model = sm.OLS(y, x).fit()\n",
    "print(model.summary())"
   ]
  }
 ],
 "metadata": {
  "kernelspec": {
   "display_name": ".venv",
   "language": "python",
   "name": "python3"
  },
  "language_info": {
   "codemirror_mode": {
    "name": "ipython",
    "version": 3
   },
   "file_extension": ".py",
   "mimetype": "text/x-python",
   "name": "python",
   "nbconvert_exporter": "python",
   "pygments_lexer": "ipython3",
   "version": "3.12.3"
  },
  "orig_nbformat": 4
 },
 "nbformat": 4,
 "nbformat_minor": 2
}
