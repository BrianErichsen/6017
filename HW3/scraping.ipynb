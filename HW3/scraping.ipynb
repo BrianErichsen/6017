{
 "cells": [
  {
   "cell_type": "markdown",
   "metadata": {},
   "source": [
    "Author: Brian Erichsen Fagundes\n",
    "MSD CS 6017 - Summer - 2024\n",
    "Homework 3: Scraping and Regression\n",
    "\n",
    "Part 1 Data Acquisiton"
   ]
  },
  {
   "cell_type": "code",
   "execution_count": 1,
   "metadata": {},
   "outputs": [
    {
     "name": "stdout",
     "output_type": "stream",
     "text": [
      "   Rank  Title Length  Age (hours)  Points  Comments\n",
      "0     1            73            0      20         0\n",
      "1     2            58           11     485       482\n",
      "2     3            86            1       9         0\n",
      "3     4            48           11     594       217\n",
      "4     5            59            6     128        46\n"
     ]
    }
   ],
   "source": [
    "from bs4 import BeautifulSoup\n",
    "import pandas as pd\n",
    "import urllib.request\n",
    "import re\n",
    "\n",
    "\n",
    "# Create arrays of data to be scraped\n",
    "ranks = []\n",
    "title_lengths = []\n",
    "age_in_hours = []\n",
    "points = []\n",
    "comments_numbers = []\n",
    "\n",
    "for i in range(5):\n",
    "    url=\"http://news.ycombinator.com/?p=\" + str(i+1)\n",
    "# Access website contents\n",
    "    with urllib.request.urlopen (url) as response:\n",
    "        html=response.read()\n",
    "        html=html.decode(\"utf-8\")\n",
    "\n",
    "# Saves html content into file\n",
    "    with open (\"hackernews\" + str(i+1) + \".html\", \"w\") as new_file:\n",
    "        new_file.write(html)\n",
    "\n",
    "# Parses html content into a soup\n",
    "    soup = BeautifulSoup(html, 'html.parser')\n",
    "    \n",
    "# Scrapes rank data\n",
    "    for post in soup.find_all(class_=\"rank\"):\n",
    "        rank = str(post.text)\n",
    "        rank = rank.replace('.', '')\n",
    "        ranks.append(int(rank))\n",
    "\n",
    "# Loads length of title data\n",
    "    for title in soup.find_all(class_=\"titleline\"):\n",
    "        title_lengths.append(len(title.text))\n",
    "\n",
    "# Loads age data\n",
    "    for age in soup.find_all(class_=\"age\"):\n",
    "        age_str =  str(age.text)\n",
    "        age_str =  age_str.removesuffix(\" hours ago\")\n",
    "        age_str = age_str.removesuffix(\" hour ago\")\n",
    "\n",
    "        if \" day ago\" in age_str:\n",
    "            age_in_hours.append(24)\n",
    "        elif \" days ago\" in age_str:\n",
    "            string = age_str.replace(\" days ago\", \"\")\n",
    "            num = int(string)\n",
    "            age_in_hours.append(num*24)\n",
    "        elif \" minute ago\" in age_str or \" minutes ago\" in age_str:\n",
    "            age_in_hours.append(0)\n",
    "        else:\n",
    "            age_in_hours.append(int(age_str))\n",
    "\n",
    "    for subtext in soup.find_all(class_=\"subtext\"):\n",
    "        point = 0\n",
    "        comments = 0\n",
    "        for score in subtext.find_all(class_=\"score\"):\n",
    "            point = int(re.search(r'\\d+', str(score.text)).group())\n",
    "\n",
    "        for tag in subtext.find_all(\"a\"):\n",
    "            if tag.text.endswith(\"comments\"):\n",
    "                a_= str(tag.text)\n",
    "                comments = int(re.search(r'\\d+', a_).group())\n",
    "\n",
    "        points.append(int(point))\n",
    "        comments_numbers.append(int(comments))\n",
    "\n",
    "data_frame = pd.DataFrame({\n",
    "    \"Rank\" : ranks, \"Title Length\" : title_lengths, \"Age (hours)\" : age_in_hours,\n",
    "    \"Points\" : points, \"Comments\" : comments_numbers\n",
    "})\n",
    "print(data_frame.head())\n"
   ]
  },
  {
   "cell_type": "code",
   "execution_count": 2,
   "metadata": {},
   "outputs": [],
   "source": [
    "# save data into file so we don't have to load data each time\n",
    "data_frame.to_csv(\"hacker_news_stories.csv\", index=False)"
   ]
  },
  {
   "cell_type": "markdown",
   "metadata": {},
   "source": [
    "Part 2 - Regression"
   ]
  },
  {
   "cell_type": "code",
   "execution_count": 7,
   "metadata": {},
   "outputs": [
    {
     "name": "stdout",
     "output_type": "stream",
     "text": [
      "                            OLS Regression Results                            \n",
      "==============================================================================\n",
      "Dep. Variable:                   Rank   R-squared:                       0.250\n",
      "Model:                            OLS   Adj. R-squared:                  0.245\n",
      "Method:                 Least Squares   F-statistic:                     49.24\n",
      "Date:                Wed, 05 Jun 2024   Prob (F-statistic):           7.56e-11\n",
      "Time:                        20:54:09   Log-Likelihood:                -756.52\n",
      "No. Observations:                 150   AIC:                             1517.\n",
      "Df Residuals:                     148   BIC:                             1523.\n",
      "Df Model:                           1                                         \n",
      "Covariance Type:            nonrobust                                         \n",
      "===============================================================================\n",
      "                  coef    std err          t      P>|t|      [0.025      0.975]\n",
      "-------------------------------------------------------------------------------\n",
      "const          48.1656      4.968      9.696      0.000      38.349      57.982\n",
      "Age (hours)     1.7322      0.247      7.017      0.000       1.244       2.220\n",
      "==============================================================================\n",
      "Omnibus:                       14.382   Durbin-Watson:                   0.480\n",
      "Prob(Omnibus):                  0.001   Jarque-Bera (JB):                8.147\n",
      "Skew:                           0.402   Prob(JB):                       0.0170\n",
      "Kurtosis:                       2.189   Cond. No.                         32.5\n",
      "==============================================================================\n",
      "\n",
      "Notes:\n",
      "[1] Standard Errors assume that the covariance matrix of the errors is correctly specified.\n"
     ]
    }
   ],
   "source": [
    "import statsmodels.api as sm\n",
    "\n",
    "dataframe = pd.read_csv(\"hacker_news_stories.csv\")\n",
    "x = data_frame['Age (hours)']\n",
    "y = data_frame['Rank']\n",
    "\n",
    "x = sm.add_constant(x)\n",
    "\n",
    "model = sm.OLS(y, x).fit()\n",
    "print(model.summary())"
   ]
  },
  {
   "cell_type": "code",
   "execution_count": 4,
   "metadata": {},
   "outputs": [
    {
     "name": "stdout",
     "output_type": "stream",
     "text": [
      "                            OLS Regression Results                            \n",
      "==============================================================================\n",
      "Dep. Variable:                   Rank   R-squared:                       0.353\n",
      "Model:                            OLS   Adj. R-squared:                  0.335\n",
      "Method:                 Least Squares   F-statistic:                     19.76\n",
      "Date:                Wed, 05 Jun 2024   Prob (F-statistic):           5.34e-13\n",
      "Time:                        20:47:21   Log-Likelihood:                -745.44\n",
      "No. Observations:                 150   AIC:                             1501.\n",
      "Df Residuals:                     145   BIC:                             1516.\n",
      "Df Model:                           4                                         \n",
      "Covariance Type:            nonrobust                                         \n",
      "================================================================================\n",
      "                   coef    std err          t      P>|t|      [0.025      0.975]\n",
      "--------------------------------------------------------------------------------\n",
      "const           26.5855     12.768      2.082      0.039       1.350      51.822\n",
      "Comments         0.0449      0.052      0.864      0.389      -0.058       0.148\n",
      "Age (hours)      2.0958      0.253      8.282      0.000       1.596       2.596\n",
      "Points          -0.1167      0.038     -3.075      0.003      -0.192      -0.042\n",
      "Title Length     0.3566      0.165      2.166      0.032       0.031       0.682\n",
      "==============================================================================\n",
      "Omnibus:                       17.670   Durbin-Watson:                   0.782\n",
      "Prob(Omnibus):                  0.000   Jarque-Bera (JB):                7.664\n",
      "Skew:                           0.326   Prob(JB):                       0.0217\n",
      "Kurtosis:                       2.105   Cond. No.                         852.\n",
      "==============================================================================\n",
      "\n",
      "Notes:\n",
      "[1] Standard Errors assume that the covariance matrix of the errors is correctly specified.\n"
     ]
    }
   ],
   "source": [
    "x = data_frame[['Comments', 'Age (hours)', 'Points', 'Title Length']]\n",
    "x = sm.add_constant(x)\n",
    "\n",
    "model = sm.OLS(y, x).fit()\n",
    "print(model.summary())"
   ]
  },
  {
   "cell_type": "code",
   "execution_count": 5,
   "metadata": {},
   "outputs": [
    {
     "name": "stdout",
     "output_type": "stream",
     "text": [
      "                            OLS Regression Results                            \n",
      "==============================================================================\n",
      "Dep. Variable:                   Rank   R-squared:                       0.081\n",
      "Model:                            OLS   Adj. R-squared:                  0.049\n",
      "Method:                 Least Squares   F-statistic:                     2.526\n",
      "Date:                Wed, 05 Jun 2024   Prob (F-statistic):             0.0318\n",
      "Time:                        20:47:21   Log-Likelihood:                -771.76\n",
      "No. Observations:                 150   AIC:                             1556.\n",
      "Df Residuals:                     144   BIC:                             1574.\n",
      "Df Model:                           5                                         \n",
      "Covariance Type:            nonrobust                                         \n",
      "=========================================================================================\n",
      "                            coef    std err          t      P>|t|      [0.025      0.975]\n",
      "-----------------------------------------------------------------------------------------\n",
      "const                   -21.9922     53.590     -0.410      0.682    -127.916      83.932\n",
      "Comments                  0.4509      0.168      2.686      0.008       0.119       0.783\n",
      "Title Length              2.0219      1.555      1.300      0.196      -1.052       5.096\n",
      "Comments^2               -0.0004      0.000     -1.451      0.149      -0.001       0.000\n",
      "Comments Title Length    -0.0045      0.002     -2.513      0.013      -0.008      -0.001\n",
      "Title Length^2           -0.0093      0.011     -0.842      0.401      -0.031       0.012\n",
      "==============================================================================\n",
      "Omnibus:                       17.088   Durbin-Watson:                   0.149\n",
      "Prob(Omnibus):                  0.000   Jarque-Bera (JB):                5.414\n",
      "Skew:                          -0.051   Prob(JB):                       0.0667\n",
      "Kurtosis:                       2.075   Cond. No.                     6.69e+05\n",
      "==============================================================================\n",
      "\n",
      "Notes:\n",
      "[1] Standard Errors assume that the covariance matrix of the errors is correctly specified.\n",
      "[2] The condition number is large, 6.69e+05. This might indicate that there are\n",
      "strong multicollinearity or other numerical problems.\n"
     ]
    }
   ],
   "source": [
    "from sklearn.preprocessing import PolynomialFeatures\n",
    "\n",
    "# polynomial regression model: Rank ~ Comments + Comments^2 + Title Length + Title Length^2\n",
    "poly = PolynomialFeatures(degree=2, include_bias=False)\n",
    "x_poly = poly.fit_transform(data_frame[['Comments', 'Title Length']])\n",
    "x = pd.DataFrame(x_poly, columns=poly.get_feature_names_out(['Comments', 'Title Length']))\n",
    "x = sm.add_constant(x)\n",
    "\n",
    "model = sm.OLS(y, x).fit()\n",
    "print(model.summary())"
   ]
  },
  {
   "cell_type": "code",
   "execution_count": 9,
   "metadata": {},
   "outputs": [
    {
     "name": "stdout",
     "output_type": "stream",
     "text": [
      "                            OLS Regression Results                            \n",
      "==============================================================================\n",
      "Dep. Variable:                   Rank   R-squared:                       0.263\n",
      "Model:                            OLS   Adj. R-squared:                  0.242\n",
      "Method:                 Least Squares   F-statistic:                     12.91\n",
      "Date:                Wed, 05 Jun 2024   Prob (F-statistic):           5.12e-09\n",
      "Time:                        21:19:15   Log-Likelihood:                -755.21\n",
      "No. Observations:                 150   AIC:                             1520.\n",
      "Df Residuals:                     145   BIC:                             1535.\n",
      "Df Model:                           4                                         \n",
      "Covariance Type:            nonrobust                                         \n",
      "================================================================================\n",
      "                   coef    std err          t      P>|t|      [0.025      0.975]\n",
      "--------------------------------------------------------------------------------\n",
      "const          110.1182     11.727      9.390      0.000      86.941     133.295\n",
      "Comments       -23.9590     23.719     -1.010      0.314     -70.839      22.921\n",
      "Age (hours)   -167.0903     26.907     -6.210      0.000    -220.271    -113.909\n",
      "Points         195.5927     49.216      3.974      0.000      98.320     292.866\n",
      "Title Length -1454.0716    657.909     -2.210      0.029   -2754.401    -153.742\n",
      "==============================================================================\n",
      "Omnibus:                        4.096   Durbin-Watson:                   0.511\n",
      "Prob(Omnibus):                  0.129   Jarque-Bera (JB):                2.412\n",
      "Skew:                          -0.023   Prob(JB):                        0.299\n",
      "Kurtosis:                       2.380   Cond. No.                         216.\n",
      "==============================================================================\n",
      "\n",
      "Notes:\n",
      "[1] Standard Errors assume that the covariance matrix of the errors is correctly specified.\n"
     ]
    }
   ],
   "source": [
    "import numpy as np\n",
    "\n",
    "# inverse linear model\n",
    "x = 1 / data_frame[['Comments', 'Age (hours)', 'Points', 'Title Length']]\n",
    "x = sm.add_constant(x.replace([np.inf, -np.inf], 0))\n",
    "model = sm.OLS(y, x).fit()\n",
    "print(model.summary())"
   ]
  },
  {
   "cell_type": "code",
   "execution_count": null,
   "metadata": {},
   "outputs": [],
   "source": [
    "import numpy as np\n",
    "\n",
    "# inverse linear model\n",
    "x = 1 / data_frame[['Points']]\n",
    "x = sm.add_constant(x.replace([np.inf, -np.inf], 0))\n",
    "model = sm.OLS(y, x).fit()\n",
    "print(model.summary())"
   ]
  },
  {
   "cell_type": "markdown",
   "metadata": {},
   "source": [
    "Explore several possible least squares regressions to predict a story's rank based on the other variables.\n",
    "\n",
    "- The model rank ~ Age. R^2 = 0.250 and p value of 0.00 meaning that is this model alone where we hold all other variables constant and compare the likely of the variable age to impact the total rank is significant and it has a direct correlation.\n",
    "\n",
    "- However, when we put all the data's variables in the same model where rank ~ Comments + Age (hours) + Points + Title Length. R^2 = 0.353 where the variable age has a p value of 0.00 meaning that the older a post is more likely that it will have a higher rank number.\n",
    "The variable that seems to have the lowest impact on rank seems to be points since it has a negative coefficient of -0.1167 meaning that for each points increase there is a decrease in rank by approximately 0.12.\n",
    "\n",
    "- The inverse linear model where rank ~ 1 / Comments + Age (hours) + Points + Title Length has R^2 = 0.263. The variable points has a p value of 0.00 meaning that per collected with 0.01% significance level we can assume that points have a inverse relationship with rank. Age variable has p a value of 0.00 where its coefficient has a value of -167.10 meaning that older posts tends to increase the rank.\n",
    "\n",
    "The model that seems the to be the best fit for the collected data is the multiple linear regression with a R-squared (0.353) compared to inverse model and quadratic model as well."
   ]
  }
 ],
 "metadata": {
  "kernelspec": {
   "display_name": ".venv",
   "language": "python",
   "name": "python3"
  },
  "language_info": {
   "codemirror_mode": {
    "name": "ipython",
    "version": 3
   },
   "file_extension": ".py",
   "mimetype": "text/x-python",
   "name": "python",
   "nbconvert_exporter": "python",
   "pygments_lexer": "ipython3",
   "version": "3.12.3"
  },
  "orig_nbformat": 4
 },
 "nbformat": 4,
 "nbformat_minor": 2
}
