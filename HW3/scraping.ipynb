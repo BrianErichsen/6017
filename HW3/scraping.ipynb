{
 "cells": [
  {
   "cell_type": "markdown",
   "metadata": {},
   "source": [
    "Author: Brian Erichsen Fagundes\n",
    "MSD CS 6017 - Summer - 2024\n",
    "Homework 3: Scraping and Regression\n",
    "\n",
    "Part 1 Data Acquisiton"
   ]
  },
  {
   "cell_type": "code",
   "execution_count": 27,
   "metadata": {},
   "outputs": [
    {
     "name": "stdout",
     "output_type": "stream",
     "text": [
      "   Rank  Title Length  Age (hours)  Points  Comments\n",
      "0     1            57            3     102        16\n",
      "1     2            72            7     244        96\n",
      "2     3            55            4      45         2\n",
      "3     4            79           16     384       223\n",
      "4     5            53            8     109        20\n"
     ]
    }
   ],
   "source": [
    "from bs4 import BeautifulSoup\n",
    "import pandas as pd\n",
    "import urllib.request\n",
    "import re\n",
    "\n",
    "\n",
    "# Create arrays of data to be scraped\n",
    "ranks = []\n",
    "title_lengths = []\n",
    "age_in_hours = []\n",
    "points = []\n",
    "comments_numbers = []\n",
    "\n",
    "for i in range(5):\n",
    "    url=\"http://news.ycombinator.com/?p=\" + str(i+1)\n",
    "# Access website contents\n",
    "    with urllib.request.urlopen (url) as response:\n",
    "        html=response.read()\n",
    "        html=html.decode(\"utf-8\")\n",
    "\n",
    "# Saves html content into file\n",
    "    with open (\"hackernews\" + str(i+1) + \".html\", \"w\") as new_file:\n",
    "        new_file.write(html)\n",
    "\n",
    "# Parses html content into a soup\n",
    "    soup = BeautifulSoup(html, 'html.parser')\n",
    "    \n",
    "# Scrapes rank data\n",
    "    for post in soup.find_all(class_=\"rank\"):\n",
    "        rank = str(post.text)\n",
    "        rank = rank.replace('.', '')\n",
    "        ranks.append(int(rank))\n",
    "\n",
    "# Loads length of title data\n",
    "    for title in soup.find_all(class_=\"titleline\"):\n",
    "        title_lengths.append(len(title.text))\n",
    "\n",
    "# Loads age data\n",
    "    for age in soup.find_all(class_=\"age\"):\n",
    "        age_str =  str(age.text)\n",
    "        age_str =  age_str.removesuffix(\" hours ago\")\n",
    "        age_str = age_str.removesuffix(\" hour ago\")\n",
    "\n",
    "        if \" day ago\" in age_str:\n",
    "            age_in_hours.append(24)\n",
    "        elif \" days ago\" in age_str:\n",
    "            string = age_str.replace(\" days ago\", \"\")\n",
    "            num = int(string)\n",
    "            age_in_hours.append(num*24)\n",
    "        elif \" minute ago\" in age_str or \" minutes ago\" in age_str:\n",
    "            age_in_hours.append(0)\n",
    "        else:\n",
    "            age_in_hours.append(int(age_str))\n",
    "\n",
    "    for subtext in soup.find_all(class_=\"subtext\"):\n",
    "        point = 0\n",
    "        comments = 0\n",
    "        for score in subtext.find_all(class_=\"score\"):\n",
    "            point = int(re.search(r'\\d+', str(score.text)).group())\n",
    "\n",
    "        for tag in subtext.find_all(\"a\"):\n",
    "            if tag.text.endswith(\"comments\"):\n",
    "                a_= str(tag.text)\n",
    "                comments = int(re.search(r'\\d+', a_).group())\n",
    "\n",
    "        points.append(int(point))\n",
    "        comments_numbers.append(int(comments))\n",
    "\n",
    "data_frame = pd.DataFrame({\n",
    "    \"Rank\" : ranks, \"Title Length\" : title_lengths, \"Age (hours)\" : age_in_hours,\n",
    "    \"Points\" : points, \"Comments\" : comments_numbers\n",
    "})\n",
    "print(data_frame.head())\n"
   ]
  },
  {
   "cell_type": "code",
   "execution_count": 28,
   "metadata": {},
   "outputs": [],
   "source": [
    "# save data into file so we don't have to load data each time\n",
    "data_frame.to_csv(\"hacker_news_stories.csv\", index=False)"
   ]
  },
  {
   "cell_type": "markdown",
   "metadata": {},
   "source": [
    "Part 2 - Regression"
   ]
  },
  {
   "cell_type": "code",
   "execution_count": null,
   "metadata": {},
   "outputs": [],
   "source": []
  }
 ],
 "metadata": {
  "kernelspec": {
   "display_name": ".venv",
   "language": "python",
   "name": "python3"
  },
  "language_info": {
   "codemirror_mode": {
    "name": "ipython",
    "version": 3
   },
   "file_extension": ".py",
   "mimetype": "text/x-python",
   "name": "python",
   "nbconvert_exporter": "python",
   "pygments_lexer": "ipython3",
   "version": "3.12.3"
  },
  "orig_nbformat": 4
 },
 "nbformat": 4,
 "nbformat_minor": 2
}
