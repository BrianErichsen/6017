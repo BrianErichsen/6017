{
 "cells": [
  {
   "cell_type": "markdown",
   "metadata": {},
   "source": [
    "Author: Brian Erichsen Fagundes\n",
    "MSD CS 6017 - Summer - 2024\n",
    "Homework 3: Scraping and Regression\n",
    "\n",
    "Part 1 Data Acquisiton"
   ]
  },
  {
   "cell_type": "code",
   "execution_count": 40,
   "metadata": {},
   "outputs": [
    {
     "name": "stdout",
     "output_type": "stream",
     "text": [
      "   Rank  Title Length  Age (hours)  Points  Comments\n",
      "0     1            75            0      24         9\n",
      "1     2            36            7     307        48\n",
      "2     3            65            3      75        13\n",
      "3     4            49            5     141        43\n",
      "4     5            79            4      90        37\n"
     ]
    }
   ],
   "source": [
    "from bs4 import BeautifulSoup\n",
    "import pandas as pd\n",
    "import urllib.request\n",
    "import re\n",
    "\n",
    "\n",
    "# Create arrays of data to be scraped\n",
    "ranks = []\n",
    "title_lengths = []\n",
    "age_in_hours = []\n",
    "points = []\n",
    "comments_numbers = []\n",
    "\n",
    "for i in range(5):\n",
    "    url=\"http://news.ycombinator.com/?p=\" + str(i+1)\n",
    "# Access website contents\n",
    "    with urllib.request.urlopen (url) as response:\n",
    "        html=response.read()\n",
    "        html=html.decode(\"utf-8\")\n",
    "\n",
    "# Saves html content into file\n",
    "    with open (\"hackernews\" + str(i+1) + \".html\", \"w\") as new_file:\n",
    "        new_file.write(html)\n",
    "\n",
    "# Parses html content into a soup\n",
    "    soup = BeautifulSoup(html, 'html.parser')\n",
    "    \n",
    "# Scrapes rank data\n",
    "    for post in soup.find_all(class_=\"rank\"):\n",
    "        rank = str(post.text)\n",
    "        rank = rank.replace('.', '')\n",
    "        ranks.append(int(rank))\n",
    "\n",
    "# Loads length of title data\n",
    "    for title in soup.find_all(class_=\"titleline\"):\n",
    "        title_lengths.append(len(title.text))\n",
    "\n",
    "# Loads age data\n",
    "    for age in soup.find_all(class_=\"age\"):\n",
    "        age_str =  str(age.text)\n",
    "        age_str =  age_str.removesuffix(\" hours ago\")\n",
    "        age_str = age_str.removesuffix(\" hour ago\")\n",
    "\n",
    "        if \" day ago\" in age_str:\n",
    "            age_in_hours.append(24)\n",
    "        elif \" days ago\" in age_str:\n",
    "            string = age_str.replace(\" days ago\", \"\")\n",
    "            num = int(string)\n",
    "            age_in_hours.append(num*24)\n",
    "        elif \" minute ago\" in age_str or \" minutes ago\" in age_str:\n",
    "            age_in_hours.append(0)\n",
    "        else:\n",
    "            age_in_hours.append(int(age_str))\n",
    "\n",
    "    for subtext in soup.find_all(class_=\"subtext\"):\n",
    "        point = 0\n",
    "        comments = 0\n",
    "        for score in subtext.find_all(class_=\"score\"):\n",
    "            point = int(re.search(r'\\d+', str(score.text)).group())\n",
    "\n",
    "        for tag in subtext.find_all(\"a\"):\n",
    "            if tag.text.endswith(\"comments\"):\n",
    "                a_= str(tag.text)\n",
    "                comments = int(re.search(r'\\d+', a_).group())\n",
    "\n",
    "        points.append(int(point))\n",
    "        comments_numbers.append(int(comments))\n",
    "\n",
    "data_frame = pd.DataFrame({\n",
    "    \"Rank\" : ranks, \"Title Length\" : title_lengths, \"Age (hours)\" : age_in_hours,\n",
    "    \"Points\" : points, \"Comments\" : comments_numbers\n",
    "})\n",
    "print(data_frame.head())\n"
   ]
  },
  {
   "cell_type": "code",
   "execution_count": 41,
   "metadata": {},
   "outputs": [],
   "source": [
    "# save data into file so we don't have to load data each time\n",
    "data_frame.to_csv(\"hacker_news_stories.csv\", index=False)"
   ]
  },
  {
   "cell_type": "markdown",
   "metadata": {},
   "source": [
    "Part 2 - Regression"
   ]
  },
  {
   "cell_type": "code",
   "execution_count": 42,
   "metadata": {},
   "outputs": [
    {
     "name": "stdout",
     "output_type": "stream",
     "text": [
      "                            OLS Regression Results                            \n",
      "==============================================================================\n",
      "Dep. Variable:                   Rank   R-squared:                       0.402\n",
      "Model:                            OLS   Adj. R-squared:                  0.398\n",
      "Method:                 Least Squares   F-statistic:                     99.40\n",
      "Date:                Fri, 07 Jun 2024   Prob (F-statistic):           3.14e-18\n",
      "Time:                        18:55:39   Log-Likelihood:                -739.53\n",
      "No. Observations:                 150   AIC:                             1483.\n",
      "Df Residuals:                     148   BIC:                             1489.\n",
      "Df Model:                           1                                         \n",
      "Covariance Type:            nonrobust                                         \n",
      "===============================================================================\n",
      "                  coef    std err          t      P>|t|      [0.025      0.975]\n",
      "-------------------------------------------------------------------------------\n",
      "const          43.9051      4.198     10.459      0.000      35.610      52.200\n",
      "Age (hours)     2.1690      0.218      9.970      0.000       1.739       2.599\n",
      "==============================================================================\n",
      "Omnibus:                        7.380   Durbin-Watson:                   0.848\n",
      "Prob(Omnibus):                  0.025   Jarque-Bera (JB):                4.792\n",
      "Skew:                           0.282   Prob(JB):                       0.0911\n",
      "Kurtosis:                       2.330   Cond. No.                         29.5\n",
      "==============================================================================\n",
      "\n",
      "Notes:\n",
      "[1] Standard Errors assume that the covariance matrix of the errors is correctly specified.\n"
     ]
    }
   ],
   "source": [
    "import statsmodels.api as sm\n",
    "\n",
    "dataframe = pd.read_csv(\"hacker_news_stories.csv\")\n",
    "x = data_frame['Age (hours)']\n",
    "y = data_frame['Rank']\n",
    "\n",
    "x = sm.add_constant(x)\n",
    "\n",
    "model = sm.OLS(y, x).fit()\n",
    "print(model.summary())"
   ]
  },
  {
   "cell_type": "code",
   "execution_count": 43,
   "metadata": {},
   "outputs": [
    {
     "name": "stdout",
     "output_type": "stream",
     "text": [
      "                            OLS Regression Results                            \n",
      "==============================================================================\n",
      "Dep. Variable:                   Rank   R-squared:                       0.452\n",
      "Model:                            OLS   Adj. R-squared:                  0.437\n",
      "Method:                 Least Squares   F-statistic:                     29.94\n",
      "Date:                Fri, 07 Jun 2024   Prob (F-statistic):           3.74e-18\n",
      "Time:                        18:55:39   Log-Likelihood:                -732.91\n",
      "No. Observations:                 150   AIC:                             1476.\n",
      "Df Residuals:                     145   BIC:                             1491.\n",
      "Df Model:                           4                                         \n",
      "Covariance Type:            nonrobust                                         \n",
      "================================================================================\n",
      "                   coef    std err          t      P>|t|      [0.025      0.975]\n",
      "--------------------------------------------------------------------------------\n",
      "const           29.6383     10.145      2.921      0.004       9.587      49.690\n",
      "Comments        -0.0251      0.032     -0.780      0.437      -0.089       0.039\n",
      "Age (hours)      2.5648      0.249     10.305      0.000       2.073       3.057\n",
      "Points          -0.0474      0.028     -1.681      0.095      -0.103       0.008\n",
      "Title Length     0.2296      0.140      1.645      0.102      -0.046       0.506\n",
      "==============================================================================\n",
      "Omnibus:                        8.145   Durbin-Watson:                   0.895\n",
      "Prob(Omnibus):                  0.017   Jarque-Bera (JB):                6.289\n",
      "Skew:                           0.392   Prob(JB):                       0.0431\n",
      "Kurtosis:                       2.375   Cond. No.                         871.\n",
      "==============================================================================\n",
      "\n",
      "Notes:\n",
      "[1] Standard Errors assume that the covariance matrix of the errors is correctly specified.\n"
     ]
    }
   ],
   "source": [
    "# Multiple linear regression model - keeping all 4 variables\n",
    "x = data_frame[['Comments', 'Age (hours)', 'Points', 'Title Length']]\n",
    "x = sm.add_constant(x)\n",
    "\n",
    "model = sm.OLS(y, x).fit()\n",
    "print(model.summary())"
   ]
  },
  {
   "cell_type": "code",
   "execution_count": 44,
   "metadata": {},
   "outputs": [
    {
     "name": "stdout",
     "output_type": "stream",
     "text": [
      "                            OLS Regression Results                            \n",
      "==============================================================================\n",
      "Dep. Variable:                   Rank   R-squared:                       0.057\n",
      "Model:                            OLS   Adj. R-squared:                  0.025\n",
      "Method:                 Least Squares   F-statistic:                     1.749\n",
      "Date:                Fri, 07 Jun 2024   Prob (F-statistic):              0.127\n",
      "Time:                        18:55:39   Log-Likelihood:                -773.64\n",
      "No. Observations:                 150   AIC:                             1559.\n",
      "Df Residuals:                     144   BIC:                             1577.\n",
      "Df Model:                           5                                         \n",
      "Covariance Type:            nonrobust                                         \n",
      "=========================================================================================\n",
      "                            coef    std err          t      P>|t|      [0.025      0.975]\n",
      "-----------------------------------------------------------------------------------------\n",
      "const                    93.2718     39.250      2.376      0.019      15.692     170.852\n",
      "Comments                  0.1504      0.190      0.794      0.429      -0.224       0.525\n",
      "Title Length             -1.2149      1.250     -0.972      0.333      -3.685       1.255\n",
      "Comments^2               -0.0001   9.89e-05     -1.135      0.258      -0.000    8.33e-05\n",
      "Comments Title Length    -0.0004      0.003     -0.144      0.886      -0.005       0.005\n",
      "Title Length^2            0.0119      0.009      1.264      0.208      -0.007       0.031\n",
      "==============================================================================\n",
      "Omnibus:                       38.232   Durbin-Watson:                   0.118\n",
      "Prob(Omnibus):                  0.000   Jarque-Bera (JB):                7.749\n",
      "Skew:                           0.072   Prob(JB):                       0.0208\n",
      "Kurtosis:                       1.896   Cond. No.                     1.03e+06\n",
      "==============================================================================\n",
      "\n",
      "Notes:\n",
      "[1] Standard Errors assume that the covariance matrix of the errors is correctly specified.\n",
      "[2] The condition number is large, 1.03e+06. This might indicate that there are\n",
      "strong multicollinearity or other numerical problems.\n"
     ]
    }
   ],
   "source": [
    "from sklearn.preprocessing import PolynomialFeatures\n",
    "\n",
    "# polynomial regression model: Rank ~ Comments + Comments^2 + Title Length + Title Length^2\n",
    "poly = PolynomialFeatures(degree=2, include_bias=False)\n",
    "x_poly = poly.fit_transform(data_frame[['Comments', 'Title Length']])\n",
    "x = pd.DataFrame(x_poly, columns=poly.get_feature_names_out(['Comments', 'Title Length']))\n",
    "x = sm.add_constant(x)\n",
    "\n",
    "model = sm.OLS(y, x).fit()\n",
    "print(model.summary())"
   ]
  },
  {
   "cell_type": "code",
   "execution_count": 45,
   "metadata": {},
   "outputs": [
    {
     "name": "stdout",
     "output_type": "stream",
     "text": [
      "                            OLS Regression Results                            \n",
      "==============================================================================\n",
      "Dep. Variable:                   Rank   R-squared:                       0.158\n",
      "Model:                            OLS   Adj. R-squared:                  0.134\n",
      "Method:                 Least Squares   F-statistic:                     6.787\n",
      "Date:                Fri, 07 Jun 2024   Prob (F-statistic):           4.91e-05\n",
      "Time:                        18:55:39   Log-Likelihood:                -765.19\n",
      "No. Observations:                 150   AIC:                             1540.\n",
      "Df Residuals:                     145   BIC:                             1555.\n",
      "Df Model:                           4                                         \n",
      "Covariance Type:            nonrobust                                         \n",
      "================================================================================\n",
      "                   coef    std err          t      P>|t|      [0.025      0.975]\n",
      "--------------------------------------------------------------------------------\n",
      "const           97.9832     10.299      9.513      0.000      77.627     118.340\n",
      "Comments        25.4490     28.118      0.905      0.367     -30.126      81.024\n",
      "Age (hours)    -87.6466     17.508     -5.006      0.000    -122.251     -53.042\n",
      "Points         121.9085     51.369      2.373      0.019      20.381     223.436\n",
      "Title Length  -992.8292    550.050     -1.805      0.073   -2079.981      94.323\n",
      "==============================================================================\n",
      "Omnibus:                       19.049   Durbin-Watson:                   0.311\n",
      "Prob(Omnibus):                  0.000   Jarque-Bera (JB):                5.699\n",
      "Skew:                           0.049   Prob(JB):                       0.0579\n",
      "Kurtosis:                       2.050   Cond. No.                         170.\n",
      "==============================================================================\n",
      "\n",
      "Notes:\n",
      "[1] Standard Errors assume that the covariance matrix of the errors is correctly specified.\n"
     ]
    }
   ],
   "source": [
    "import numpy as np\n",
    "\n",
    "# inverse linear model with all 4 variables for x\n",
    "x = 1 / data_frame[['Comments', 'Age (hours)', 'Points', 'Title Length']]\n",
    "x = sm.add_constant(x.replace([np.inf, -np.inf], 0))\n",
    "model = sm.OLS(y, x).fit()\n",
    "print(model.summary())"
   ]
  },
  {
   "cell_type": "code",
   "execution_count": 46,
   "metadata": {},
   "outputs": [
    {
     "name": "stdout",
     "output_type": "stream",
     "text": [
      "                            OLS Regression Results                            \n",
      "==============================================================================\n",
      "Dep. Variable:                   Rank   R-squared:                       0.000\n",
      "Model:                            OLS   Adj. R-squared:                 -0.007\n",
      "Method:                 Least Squares   F-statistic:                  0.001020\n",
      "Date:                Fri, 07 Jun 2024   Prob (F-statistic):              0.975\n",
      "Time:                        18:55:39   Log-Likelihood:                -778.06\n",
      "No. Observations:                 150   AIC:                             1560.\n",
      "Df Residuals:                     148   BIC:                             1566.\n",
      "Df Model:                           1                                         \n",
      "Covariance Type:            nonrobust                                         \n",
      "==============================================================================\n",
      "                 coef    std err          t      P>|t|      [0.025      0.975]\n",
      "------------------------------------------------------------------------------\n",
      "const         75.4150      4.444     16.970      0.000      66.633      84.197\n",
      "Points         1.5561     48.722      0.032      0.975     -94.725      97.837\n",
      "==============================================================================\n",
      "Omnibus:                       61.279   Durbin-Watson:                   0.001\n",
      "Prob(Omnibus):                  0.000   Jarque-Bera (JB):                9.009\n",
      "Skew:                           0.002   Prob(JB):                       0.0111\n",
      "Kurtosis:                       1.799   Cond. No.                         13.7\n",
      "==============================================================================\n",
      "\n",
      "Notes:\n",
      "[1] Standard Errors assume that the covariance matrix of the errors is correctly specified.\n"
     ]
    }
   ],
   "source": [
    "import numpy as np\n",
    "\n",
    "# inverse linear model keeping only points for x variable\n",
    "x = 1 / data_frame[['Points']]\n",
    "x = sm.add_constant(x.replace([np.inf, -np.inf], 0))\n",
    "model = sm.OLS(y, x).fit()\n",
    "print(model.summary())"
   ]
  },
  {
   "cell_type": "markdown",
   "metadata": {},
   "source": [
    "Explore several possible least squares regressions to predict a story's rank based on the other variables.\n",
    "\n",
    "- The model rank ~ Age. R^2 = 0.402 and p value of 0.00 meaning that is this model alone where we hold all other variables constant and compare the likely of the variable age to impact the total rank is significant and it has a direct correlation.\n",
    "\n",
    "- However, when we put all the data's variables in the same model where rank ~ Comments + Age (hours) + Points + Title Length. R^2 = 0.452 where the variable age has a p value of 0.00 meaning that the older a post is more likely that it will have a higher rank number.\n",
    "The variable that seems to have the lowest impact on rank seems to be points since it has a negative coefficient of -0.0474 meaning that for each point increase there is a decrease in rank by approximately 0.5 units of rank.\n",
    "\n",
    "- The inverse linear model where rank ~ 1 / Comments + Age (hours) + Points + Title Length has R^2 = 0.158. The variable points has a p value of 0.00 meaning that per collected with 0.01% significance level we can assume that points have a inverse relationship with rank. Age variable has p a value of 0.00 where its coefficient has a value of -87.6466 meaning that older posts tends to increase the rank.\n",
    "\n",
    "The model that seems the to be the best fit for the collected data is the multiple linear regression with a R-squared (0.452) compared to inverse model and quadratic model as well."
   ]
  },
  {
   "cell_type": "markdown",
   "metadata": {},
   "source": [
    "Part 3 Classification"
   ]
  },
  {
   "cell_type": "code",
   "execution_count": 47,
   "metadata": {},
   "outputs": [
    {
     "name": "stdout",
     "output_type": "stream",
     "text": [
      "Optimization terminated successfully.\n",
      "         Current function value: 0.268563\n",
      "         Iterations 9\n",
      "                           Logit Regression Results                           \n",
      "==============================================================================\n",
      "Dep. Variable:             Front Page   No. Observations:                  105\n",
      "Model:                          Logit   Df Residuals:                      100\n",
      "Method:                           MLE   Df Model:                            4\n",
      "Date:                Fri, 07 Jun 2024   Pseudo R-squ.:                  0.3935\n",
      "Time:                        18:55:39   Log-Likelihood:                -28.199\n",
      "converged:                       True   LL-Null:                       -46.496\n",
      "Covariance Type:            nonrobust   LLR p-value:                 2.185e-07\n",
      "================================================================================\n",
      "                   coef    std err          z      P>|z|      [0.025      0.975]\n",
      "--------------------------------------------------------------------------------\n",
      "const            2.7737      1.428      1.942      0.052      -0.025       5.572\n",
      "Comments         0.0068      0.013      0.540      0.589      -0.018       0.032\n",
      "Age (hours)     -0.4567      0.131     -3.486      0.000      -0.713      -0.200\n",
      "Points           0.0119      0.006      1.957      0.050   -1.89e-05       0.024\n",
      "Title Length    -0.0339      0.018     -1.864      0.062      -0.070       0.002\n",
      "================================================================================\n",
      "\n",
      "Possibly complete quasi-separation: A fraction 0.13 of observations can be\n",
      "perfectly predicted. This might indicate that there is complete\n",
      "quasi-separation. In this case some parameters will not be identified.\n"
     ]
    }
   ],
   "source": [
    "import numpy as np\n",
    "from sklearn.model_selection import train_test_split\n",
    "\n",
    "# np where returns elements from x or y (condition, x, y)\n",
    "# x = true and y = false\n",
    "# last rank seem in the 1st page is 30- 1 for front page and 0 for not\n",
    "data_frame['Front Page'] = np.where(data_frame['Rank'] <= 30, 1, 0)\n",
    "\n",
    "# keep all variables in the model\n",
    "x = data_frame[['Comments', 'Age (hours)', 'Points', 'Title Length']]\n",
    "y = data_frame['Front Page']\n",
    "\n",
    "# Defines intercept beta 0\n",
    "x = sm.add_constant(x)\n",
    "\n",
    "# Splits the data into training and testing sets\n",
    "# splits random train and test subsets ~ 30% into test split\n",
    "x_train, x_test, y_train, y_test = train_test_split(x, y, test_size=0.3, random_state=42)\n",
    "\n",
    "# Fits the logit regression model\n",
    "logit_model = sm.Logit(y_train, x_train)\n",
    "result = logit_model.fit()\n",
    "\n",
    "# Prints summary for analysis\n",
    "print(result.summary())"
   ]
  },
  {
   "cell_type": "code",
   "execution_count": 70,
   "metadata": {},
   "outputs": [
    {
     "name": "stdout",
     "output_type": "stream",
     "text": [
      "[[29  3]\n",
      " [10  3]]\n",
      "              precision    recall  f1-score   support\n",
      "\n",
      "           0       0.74      0.91      0.82        32\n",
      "           1       0.50      0.23      0.32        13\n",
      "\n",
      "    accuracy                           0.71        45\n",
      "   macro avg       0.62      0.57      0.57        45\n",
      "weighted avg       0.67      0.71      0.67        45\n",
      "\n",
      "Accuracy:  0.7111111111111111\n",
      "Optimization terminated successfully.\n",
      "         Current function value: 0.494401\n",
      "         Iterations 6\n"
     ]
    },
    {
     "data": {
      "image/png": "[encoded data removed]",
      "text/plain": [
       "<Figure size 1000x600 with 1 Axes>"
      ]
     },
     "metadata": {},
     "output_type": "display_data"
    },
    {
     "name": "stdout",
     "output_type": "stream",
     "text": [
      "                           Logit Regression Results                           \n",
      "==============================================================================\n",
      "Dep. Variable:             Front Page   No. Observations:                  150\n",
      "Model:                          Logit   Df Residuals:                      148\n",
      "Method:                           MLE   Df Model:                            1\n",
      "Date:                Fri, 07 Jun 2024   Pseudo R-squ.:                 0.01199\n",
      "Time:                        20:23:32   Log-Likelihood:                -74.160\n",
      "converged:                       True   LL-Null:                       -75.060\n",
      "Covariance Type:            nonrobust   LLR p-value:                    0.1796\n",
      "==============================================================================\n",
      "                 coef    std err          z      P>|z|      [0.025      0.975]\n",
      "------------------------------------------------------------------------------\n",
      "const         -1.1612      0.262     -4.437      0.000      -1.674      -0.648\n",
      "Score         -0.0020      0.002     -1.223      0.221      -0.005       0.001\n",
      "==============================================================================\n"
     ]
    }
   ],
   "source": [
    "import matplotlib.pyplot as plt\n",
    "from sklearn.metrics import confusion_matrix, classification_report, accuracy_score\n",
    "import seaborn as sns\n",
    "# Predicts the probability and class labels\n",
    "y_pred_prob = result.predict(x_test)\n",
    "y_pred = np.where(y_pred_prob > 0.5, 1, 0)\n",
    "\n",
    "# prints accuracy key points\n",
    "print(confusion_matrix(y_test, y_pred))\n",
    "print(classification_report(y_test, y_pred))\n",
    "print(\"Accuracy: \", accuracy_score(y_test, y_pred))\n",
    "\n",
    "# plots regression for multi linear data points + age\n",
    "data_frame['Score'] = (data_frame['Points'] + data_frame['Age (hours)'])\n",
    "logit_model2 = sm.Logit(data_frame['Front Page'], sm.add_constant(data_frame['Score']))\n",
    "result2 = logit_model2.fit()\n",
    "# plots regression\n",
    "plt.figure(figsize=(10, 6))\n",
    "plt.scatter(data_frame['Score'], data_frame['Front Page'], c=['red' if z else 'blue' for z in data_frame['Front Page']], label='Data Points')\n",
    "predicted_probs = result2.predict(sm.add_constant(data_frame[['Score']]))\n",
    "plt.plot(data_frame['Score'], predicted_probs, color='black', label='Logistic Fit')\n",
    "plt.axhline(0.5, color='red', linestyle='--', label='Decision Boundary')\n",
    "plt.xlabel('Points + Comments')\n",
    "plt.ylabel('Front Page Probability')\n",
    "plt.title('Probability of Being on the Front Page by Score')\n",
    "plt.legend()\n",
    "plt.show()\n",
    "\n",
    "print(result2.summary())"
   ]
  },
  {
   "cell_type": "markdown",
   "metadata": {},
   "source": [
    "\n",
    "Confusion Matrix Analysis:\n",
    "False positive: The model incorrectly predicted a positive class when its actually negative. 3 for False positive.\n",
    "False negative: The model incorrecly predicted a negative class when its actually positive. Here, it's 10.\n",
    "The model had an approximation of 71% accuracy."
   ]
  },
  {
   "cell_type": "code",
   "execution_count": 49,
   "metadata": {},
   "outputs": [
    {
     "data": {
      "image/png": "[encoded data removed]",
      "text/plain": [
       "<Figure size 640x480 with 1 Axes>"
      ]
     },
     "metadata": {},
     "output_type": "display_data"
    }
   ],
   "source": [
    "from sklearn.metrics import roc_curve, auc\n",
    "\n",
    "\n",
    "# receiver operating characteristic curve - diagnostic ability of\n",
    "# binary classifier -- auc Area under curve\n",
    "# false positive rate and true positive rate\n",
    "fpr, tpr, thresholds = roc_curve(y_test, y_pred_prob)\n",
    "roc_auc = auc(fpr, tpr)\n",
    "\n",
    "# plot the ROC curve\n",
    "plt.figure()\n",
    "plt.plot(fpr, tpr, color='darkorange', lw=2, label=f'ROC curve (area = {roc_auc:.2f})')\n",
    "plt.plot([0, 1], [0, 1], color = 'navy', lw=2, linestyle='--')\n",
    "plt.xlim([0.0, 1.0])\n",
    "plt.ylim([0.0, 1.05])\n",
    "plt.xlabel('False Positive Rate')\n",
    "plt.ylabel('True Positive Rate')\n",
    "plt.title('Receiver Operating Characteristic (ROC) curve')\n",
    "plt.legend(loc=\"lower right\")\n",
    "plt.show()"
   ]
  },
  {
   "cell_type": "markdown",
   "metadata": {},
   "source": [
    "Analysis of Regression Results:\n",
    "    -The significant predictor of an article making to the front page seems to be related to age. Age variable has a p value of 0.00 with a negative coefficient meaning that the older an article gets less likely to be on the front page."
   ]
  }
 ],
 "metadata": {
  "kernelspec": {
   "display_name": ".venv",
   "language": "python",
   "name": "python3"
  },
  "language_info": {
   "codemirror_mode": {
    "name": "ipython",
    "version": 3
   },
   "file_extension": ".py",
   "mimetype": "text/x-python",
   "name": "python",
   "nbconvert_exporter": "python",
   "pygments_lexer": "ipython3",
   "version": "3.12.3"
  },
  "orig_nbformat": 4
 },
 "nbformat": 4,
 "nbformat_minor": 2
}
