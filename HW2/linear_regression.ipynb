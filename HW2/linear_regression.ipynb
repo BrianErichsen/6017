{
 "cells": [
  {
   "cell_type": "markdown",
   "metadata": {},
   "source": [
    "#Author:Brian Erichsen Fagundes\n",
    "#MSD CS 6017 - Summer - 2024\n",
    "#Homework 2\n",
    "\n",
    "Part 1: A/B Hypothesis testing\n",
    "\n",
    "You conduct an A/B test for your website by showing A to some of your users, and B to others.\n",
    "\n",
    "ad clicks\ttotal views\n",
    "A\t500\t1000\n",
    "B\t550\t1000\n",
    "It looks like B is better than A...\n",
    "\n",
    "Perform a hypothesis test using the two-proportion z-value test See the \"pooled\" version from the table here statistic at both the 5% and 1% signficance levels.\n",
    "\n",
    "Begin by formulating and writing down your null hypothesis, then compute the Z value for this trial, and its associated p-value.\n",
    "\n",
    "Note: the Z value you compute is assumed to be distributed according to the standard normal distribution (mean = 0, variance = 1). We'll consider the \"1-sided\" p-value which meaures the probability of a sample having a Z value that is more extreme in only one tail (to get the 2-sided value, you'd just multiply by 2).\n",
    "\n",
    "What can you conclude?\n",
    "\n",
    "Note, to help you understand your results, you might want to tweak the number of clicks for b to see how that changes your results. For example, what do you expect to happen to your p value if b is clicked 560 or 570 times? This is JUST for understanding the results, and shouldn't bias your decision one way or another!"
   ]
  },
  {
   "cell_type": "markdown",
   "metadata": {},
   "source": [
    "- Null hypotheses H0: The proportions of ad click for logos A and B are the same. H0 = pA = pB\n",
    "- Alterntive hypotheses H1: The proportions of ad clicks for logos B is higher than for logo A. H1 = pB > pA"
   ]
  },
  {
   "cell_type": "code",
   "execution_count": 13,
   "metadata": {},
   "outputs": [
    {
     "name": "stdout",
     "output_type": "stream",
     "text": [
      "Pooled Proportion: 0.525\n",
      "Stadandard Error: 0.022332711434127295\n",
      "Z Value: 2.238868314198227\n",
      "One-sided p-value: 0.012582242850159187\n",
      "Two-sided p-value: 0.025164485700318373\n",
      "Z value (statsmodels): 2.238868314198227\n",
      "One-sided p-value (statsmodels): 0.0125822428501592\n",
      "Reject the null hypothesis at the 5% significance level.\n"
     ]
    }
   ],
   "source": [
    "import math\n",
    "from scipy.stats import norm\n",
    "import statsmodels.api as sm\n",
    "\n",
    "# Data\n",
    "clicks_A = 500\n",
    "views_A = 1000\n",
    "clicks_B = 550\n",
    "views_B = 1000\n",
    "\n",
    "# p value for data a and data b\n",
    "p_A = clicks_A / views_A\n",
    "p_B = clicks_B / views_B\n",
    "\n",
    "# In Binomial distribution mean = np and variance = p(1 - p)\n",
    "# Var of sample proportion Var(p) = p(1 - p) / n\n",
    "# Standard Error is the square root of the combined variance\n",
    "# which simplified becomes sqrt of p_pool * ( 1 - p_pool) * (1 / popA + 1/ popB))\n",
    "# z score is Z = (pB - pA) / SE\n",
    "\n",
    "# pooled proportion\n",
    "p_pooled = (clicks_A + clicks_B) / (views_A + views_B)\n",
    "\n",
    "# Standard Error\n",
    "SE = math.sqrt(p_pooled * (1 - p_pooled) * (1/views_A + 1/views_B))\n",
    "\n",
    "Z = (p_B - p_A) / SE\n",
    "\n",
    "# Cumulative Distribution Function - prob that  normally distributed\n",
    "# random var is less or equal than given value\n",
    "\n",
    "# One sided p-value // sees right of Z which is chance of\n",
    "# observing an extreme value if H0 is true\n",
    "p_value_one_sided = 1 - norm.cdf(Z)\n",
    "p_value_two_sided = p_value_one_sided * 2\n",
    "\n",
    "print(f\"Pooled Proportion: {p_pooled}\")\n",
    "print(f\"Stadandard Error: {SE}\")\n",
    "print(f\"Z Value: {Z}\")\n",
    "print(f\"One-sided p-value: {p_value_one_sided}\")\n",
    "print(f\"Two-sided p-value: {p_value_two_sided}\")\n",
    "\n",
    "# Comfirming the results\n",
    "count = [clicks_B, clicks_A]\n",
    "nobs = [views_B, views_A]\n",
    "z_stat, p_value = sm.stats.proportions_ztest(count, nobs, alternative='larger')\n",
    "print(f\"Z value (statsmodels): {z_stat}\")\n",
    "print(f\"One-sided p-value (statsmodels): {p_value}\")\n",
    "\n",
    "# Significance levels\n",
    "alpha_5 = 0.05\n",
    "alpha_1 = 0.01\n",
    "\n",
    "# Conclusions\n",
    "if p_value < alpha_5:\n",
    "    print(\"Reject the null hypothesis at the 5% significance level.\")\n",
    "else:\n",
    "    print(\"Fail to reject the null hypothesis at the 5% significance level\")\n",
    "\n"
   ]
  },
  {
   "cell_type": "markdown",
   "metadata": {},
   "source": [
    "What can you conclude?\n",
    "\n",
    "Reject the null hypothesis at the 5% significance level.\n"
   ]
  },
  {
   "cell_type": "markdown",
   "metadata": {},
   "source": [
    "Part 2: Regression of real estate data\n",
    "Adapted from datasciencecourse.net\n",
    "\n",
    "For this problem, you will analyze SLC real estate data. The dataset contains multiple listing service (MLS) real estate transactions for houses sold in 2015-16 in zip code 84103 (SLC avenues neighborhod Google Map). We are primarily interested in regressing the SoldPrice on the house attributes (property size, house size, number of bedrooms, etc...).\n",
    "\n",
    "Task 1: Import the data\n",
    "Use the pandas.read_csv() function to import the dataset. The data is contained in two files: realEstate1.csv and realEstate2.csv. After you import these files separately, concatenate them into one big dataframe. This pandas dataframe will be used for data exploration and linear regression."
   ]
  },
  {
   "cell_type": "code",
   "execution_count": null,
   "metadata": {},
   "outputs": [],
   "source": [
    "import panda as pd\n",
    "\n"
   ]
  }
 ],
 "metadata": {
  "kernelspec": {
   "display_name": ".venv",
   "language": "python",
   "name": "python3"
  },
  "language_info": {
   "codemirror_mode": {
    "name": "ipython",
    "version": 3
   },
   "file_extension": ".py",
   "mimetype": "text/x-python",
   "name": "python",
   "nbconvert_exporter": "python",
   "pygments_lexer": "ipython3",
   "version": "3.12.3"
  },
  "orig_nbformat": 4
 },
 "nbformat": 4,
 "nbformat_minor": 2
}
